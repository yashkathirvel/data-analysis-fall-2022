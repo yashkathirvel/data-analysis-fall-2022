{
 "cells": [
  {
   "cell_type": "code",
   "execution_count": 2,
   "metadata": {},
   "outputs": [],
   "source": [
    "# import libraries:\n",
    "import numpy as np\n",
    "import pandas as pd\n",
    "import matplotlib.pyplot as plt\n",
    "from scipy import stats\n",
    "from statsmodels.stats.multicomp import (pairwise_tukeyhsd,\n",
    "                                         MultiComparison)\n",
    "from statsmodels.formula.api import ols\n",
    "from statsmodels.stats.anova import anova_lm\n",
    "from statsmodels.stats.libqsturng import psturng"
   ]
  },
  {
   "cell_type": "markdown",
   "metadata": {},
   "source": [
    "### Figure 3G"
   ]
  },
  {
   "cell_type": "code",
   "execution_count": 3,
   "metadata": {},
   "outputs": [
    {
     "data": {
      "text/html": [
       "<div>\n",
       "<style scoped>\n",
       "    .dataframe tbody tr th:only-of-type {\n",
       "        vertical-align: middle;\n",
       "    }\n",
       "\n",
       "    .dataframe tbody tr th {\n",
       "        vertical-align: top;\n",
       "    }\n",
       "\n",
       "    .dataframe thead th {\n",
       "        text-align: right;\n",
       "    }\n",
       "</style>\n",
       "<table border=\"1\" class=\"dataframe\">\n",
       "  <thead>\n",
       "    <tr style=\"text-align: right;\">\n",
       "      <th></th>\n",
       "      <th>IgG2b</th>\n",
       "      <th>anti-CD4</th>\n",
       "      <th>anti-CD8</th>\n",
       "    </tr>\n",
       "  </thead>\n",
       "  <tbody>\n",
       "    <tr>\n",
       "      <th>0</th>\n",
       "      <td>12.334</td>\n",
       "      <td>11.063</td>\n",
       "      <td>4.859</td>\n",
       "    </tr>\n",
       "    <tr>\n",
       "      <th>1</th>\n",
       "      <td>10.017</td>\n",
       "      <td>11.238</td>\n",
       "      <td>5.842</td>\n",
       "    </tr>\n",
       "    <tr>\n",
       "      <th>2</th>\n",
       "      <td>10.054</td>\n",
       "      <td>11.598</td>\n",
       "      <td>6.592</td>\n",
       "    </tr>\n",
       "    <tr>\n",
       "      <th>3</th>\n",
       "      <td>7.440</td>\n",
       "      <td>11.355</td>\n",
       "      <td>6.613</td>\n",
       "    </tr>\n",
       "    <tr>\n",
       "      <th>4</th>\n",
       "      <td>10.090</td>\n",
       "      <td>11.986</td>\n",
       "      <td>NaN</td>\n",
       "    </tr>\n",
       "    <tr>\n",
       "      <th>5</th>\n",
       "      <td>9.682</td>\n",
       "      <td>11.210</td>\n",
       "      <td>NaN</td>\n",
       "    </tr>\n",
       "    <tr>\n",
       "      <th>6</th>\n",
       "      <td>10.049</td>\n",
       "      <td>NaN</td>\n",
       "      <td>NaN</td>\n",
       "    </tr>\n",
       "  </tbody>\n",
       "</table>\n",
       "</div>"
      ],
      "text/plain": [
       "    IgG2b  anti-CD4  anti-CD8\n",
       "0  12.334    11.063     4.859\n",
       "1  10.017    11.238     5.842\n",
       "2  10.054    11.598     6.592\n",
       "3   7.440    11.355     6.613\n",
       "4  10.090    11.986       NaN\n",
       "5   9.682    11.210       NaN\n",
       "6  10.049       NaN       NaN"
      ]
     },
     "execution_count": 3,
     "metadata": {},
     "output_type": "execute_result"
    }
   ],
   "source": [
    "# load data\n",
    "data_1 = pd.read_excel('data/Paper1_figure_3G.xls', skiprows=2, sheet_name='Sheet1')\n",
    "data_2 = pd.read_excel('data/Paper1_figure_3G.xls', skiprows=2, sheet_name='Sheet2')\n",
    "data_3 = pd.read_excel('data/Paper1_figure_3G.xls', skiprows=2, sheet_name='Sheet3')\n",
    "data_4 = pd.read_excel('data/Paper1_figure_3G.xls', skiprows=2, sheet_name='Sheet4')\n",
    "\n",
    "data_1\n"
   ]
  },
  {
   "cell_type": "code",
   "execution_count": 4,
   "metadata": {},
   "outputs": [],
   "source": [
    "# PLOT FUNCTION\n",
    "def plot_1(data, fig, axes):\n",
    "    for i in range(3):\n",
    "        axes.scatter(1*np.ones(len(data['IgG2b'])), \n",
    "                     data['IgG2b'], \n",
    "                     color='#000000')\n",
    "        axes.scatter(2*np.ones(len(data['anti-CD4'])), \n",
    "                     data['anti-CD4'], \n",
    "                     color='#2c51b0')\n",
    "        axes.scatter(3*np.ones(len(data['anti-CD8'])), \n",
    "                     data['anti-CD8'], \n",
    "                     color='#eb4034')\n",
    "\n",
    "    # the error bars\n",
    "    axes.bar(1,\n",
    "            height=np.mean(data['IgG2b']),\n",
    "            yerr=np.std(data['IgG2b']),    # error bars\n",
    "            capsize=15, # error bar cap width in points\n",
    "            color=(0, 0, 0, 0),  # face color transparent\n",
    "            edgecolor=(0, 0, 0, 0),\n",
    "            )\n",
    "\n",
    "    axes.bar(2,\n",
    "            height=np.mean(data['anti-CD4']),\n",
    "            yerr=np.std(data['anti-CD4']),    # error bars\n",
    "            capsize=15, # error bar cap width in points\n",
    "            color=(0, 0, 0, 0),  # face color transparent\n",
    "            edgecolor=(0, 0, 0, 0),\n",
    "            )      \n",
    "\n",
    "    axes.bar(3,\n",
    "            height=np.mean(data['anti-CD8']),\n",
    "            yerr=np.std(data['anti-CD8']),    # error bars\n",
    "            capsize=15, # error bar cap width in points\n",
    "            color=(0, 0, 0, 0),  # face color transparent\n",
    "            edgecolor=(0, 0, 0, 0),\n",
    "            )    \n",
    "\n",
    "    # more parameters\n",
    "    axes.set_xlim([0.5, 3.5])\n",
    "    axes.set_xticks([1, 2, 3], ['IgG2b', 'anti-CD4', 'anti-CD8'])\n",
    "    fig.set_size_inches([13, 3])\n",
    "\n",
    "def mann_whitney(data):\n",
    "    (t, p_val_1) = stats.mannwhitneyu(data['IgG2b'], data['anti-CD4'], nan_policy='omit')\n",
    "    (t, p_val_2) = stats.mannwhitneyu(data['IgG2b'], data['anti-CD8'], nan_policy='omit')\n",
    "    print(f'anti-CD4 => {p_val_1:0.3f} & anti-CD8 => {p_val_2:0.3f}')\n",
    "        \n",
    "    "
   ]
  },
  {
   "cell_type": "code",
   "execution_count": 5,
   "metadata": {},
   "outputs": [
    {
     "data": {
      "text/plain": [
       "Text(2.8, 2.7, '*')"
      ]
     },
     "execution_count": 5,
     "metadata": {},
     "output_type": "execute_result"
    },
    {
     "data": {
      "image/png": "[encoded data removed]",
      "text/plain": [
       "<Figure size 1300x300 with 4 Axes>"
      ]
     },
     "metadata": {},
     "output_type": "display_data"
    }
   ],
   "source": [
    "# DRIVER CODE\n",
    "\n",
    "# declare axes\n",
    "fig, (ax1, ax2, ax3, ax4) = plt.subplots(1, 4)\n",
    "\n",
    "# plot 1\n",
    "plot_1(data_1, fig, ax1)\n",
    "ax1.set_title('H2kb')\n",
    "ax1.set_ylabel('gMFI (x1000)')\n",
    "ax1.text(2.80, 7, '**', size=20, fontweight='bold')\n",
    "plot_1(data_3, fig, ax2)\n",
    "ax2.set_title('MHC-II')\n",
    "ax2.text(2.80, 0.5, '**', size=20, fontweight='bold')\n",
    "plot_1(data_4, fig, ax3)\n",
    "ax3.set_title('CD11c') \n",
    "ax3.text(2.80, 1.2, '*', size=20, fontweight='bold')\n",
    "plot_1(data_2, fig, ax4)\n",
    "ax4.set_title('CD206')\n",
    "ax4.text(2.80, 2.7, '*', size=20, fontweight='bold')\n",
    "\n"
   ]
  },
  {
   "cell_type": "code",
   "execution_count": 6,
   "metadata": {},
   "outputs": [
    {
     "name": "stdout",
     "output_type": "stream",
     "text": [
      "anti-CD4 => 0.035 & anti-CD8 => 0.006\n"
     ]
    }
   ],
   "source": [
    "# do Mann-Whitney test for H2kb\n",
    "mann_whitney(data_1)"
   ]
  },
  {
   "cell_type": "code",
   "execution_count": 7,
   "metadata": {},
   "outputs": [
    {
     "name": "stdout",
     "output_type": "stream",
     "text": [
      "anti-CD4 => 0.534 & anti-CD8 => 0.006\n"
     ]
    }
   ],
   "source": [
    "# do Mann-Whitney test for MHC-II\n",
    "mann_whitney(data_3)"
   ]
  },
  {
   "cell_type": "code",
   "execution_count": 8,
   "metadata": {},
   "outputs": [
    {
     "name": "stdout",
     "output_type": "stream",
     "text": [
      "anti-CD4 => 0.445 & anti-CD8 => 0.024\n"
     ]
    }
   ],
   "source": [
    "# do Mann-Whitney test for CD11c\n",
    "mann_whitney(data_4)"
   ]
  },
  {
   "cell_type": "code",
   "execution_count": 9,
   "metadata": {},
   "outputs": [
    {
     "name": "stdout",
     "output_type": "stream",
     "text": [
      "anti-CD4 => 0.534 & anti-CD8 => 0.042\n"
     ]
    }
   ],
   "source": [
    "# do Mann-Whitney test for CD206\n",
    "mann_whitney(data_2)"
   ]
  },
  {
   "cell_type": "markdown",
   "metadata": {},
   "source": [
    "### Figure 5A"
   ]
  },
  {
   "cell_type": "code",
   "execution_count": 10,
   "metadata": {},
   "outputs": [],
   "source": [
    "# FUNCTION\n",
    "def plot_2(data, fig, axes, title):\n",
    "    color = '#eb4034'\n",
    "    for i in range(3):\n",
    "        axes.scatter(1*np.ones(len(data['BMDC'])), \n",
    "                data['BMDC'], \n",
    "                color=color)\n",
    "        axes.scatter(2*np.ones(len(data['TAM'])), \n",
    "                data['TAM'], \n",
    "                color=color)\n",
    "        axes.scatter(3*np.ones(len(data['CD103+ DC'])), \n",
    "                data['CD103+ DC'], \n",
    "                color=color)\n",
    "        axes.scatter(4*np.ones(len(data['TAM.1'])), \n",
    "                data['TAM.1'], \n",
    "                color=color)\n",
    "        axes.scatter(5*np.ones(len(data['CD103+ DC.1'])), \n",
    "                data['CD103+ DC.1'], \n",
    "                color=color)\n",
    "\n",
    "    # the error bars\n",
    "    axes.bar(1,\n",
    "            height=np.mean(data['BMDC']),\n",
    "            yerr=np.std(data['BMDC']),    # error bars\n",
    "            capsize=10, # error bar cap width in points\n",
    "            color=(0, 0, 0, 0),  # face color transparent\n",
    "            edgecolor=(0, 0, 0, 0),\n",
    "            )\n",
    "\n",
    "    axes.bar(2,\n",
    "        height=np.mean(data['TAM']),\n",
    "        yerr=np.std(data['TAM']),    # error bars\n",
    "        capsize=10, # error bar cap width in points\n",
    "        color=(0, 0, 0, 0),  # face color transparent\n",
    "        edgecolor=(0, 0, 0, 0),\n",
    "        )      \n",
    "\n",
    "    axes.bar(3,\n",
    "            height=np.mean(data['CD103+ DC']),\n",
    "            yerr=np.std(data['CD103+ DC']),    # error bars\n",
    "            capsize=7, # error bar cap width in points\n",
    "            color=(0, 0, 0, 0),  # face color transparent\n",
    "            edgecolor=(0, 0, 0, 0),\n",
    "            ) \n",
    "    axes.bar(4,\n",
    "            height=np.mean(data['TAM.1']),\n",
    "            yerr=np.std(data['TAM.1']),    # error bars\n",
    "            capsize=7, # error bar cap width in points\n",
    "            color=(0, 0, 0, 0),  # face color transparent\n",
    "            edgecolor=(0, 0, 0, 0),\n",
    "            )      \n",
    "    axes.bar(5,\n",
    "            height=np.mean(data['CD103+ DC.1']),\n",
    "            yerr=np.std(data['CD103+ DC.1']),    # error bars\n",
    "            capsize=7, # error bar cap width in points\n",
    "            color=(0, 0, 0, 0),  # face color transparent\n",
    "            edgecolor=(0, 0, 0, 0),\n",
    "            )      \n",
    "\n",
    "\n",
    "    # more parameters\n",
    "    # axes.set_xlim([0.5, 5])\n",
    "    axes.set_xticks([1, 2, 3, 4, 5], ['BMDC', 'TAM', 'CD103+ DC', 'TAM.1', 'CD103+ DC.1'])\n",
    "    axes.tick_params(axis='x', labelrotation=55)  \n",
    "    axes.set_title(title)\n",
    "    fig.set_size_inches([13, 3])"
   ]
  },
  {
   "cell_type": "code",
   "execution_count": 11,
   "metadata": {},
   "outputs": [],
   "source": [
    "# load data\n",
    "data_1 = pd.read_excel('data/Paper1_figure_5A.xls', sheet_name='Sheet1', skiprows=2)\n",
    "data_2 = pd.read_excel('data/Paper1_figure_5A.xls', sheet_name='Sheet2', skiprows=2)\n",
    "data_3 = pd.read_excel('data/Paper1_figure_5A.xls', sheet_name='Sheet3', skiprows=2)\n",
    "data_4 = pd.read_excel('data/Paper1_figure_5A.xls', sheet_name='Sheet4', skiprows=2)\n",
    "\n",
    "\n",
    "# print data\n"
   ]
  },
  {
   "cell_type": "code",
   "execution_count": 14,
   "metadata": {},
   "outputs": [
    {
     "name": "stdout",
     "output_type": "stream",
     "text": [
      "The p-value of the Levene test is < 0.05: p = 0.008. Therefore, we reject the null hypothesis that the three groups have an equal variance.\n",
      "Since p-value from one-way ANOVA is < 0.05, one of the groups is significantly different.\n"
     ]
    },
    {
     "data": {
      "text/html": [
       "<div>\n",
       "<style scoped>\n",
       "    .dataframe tbody tr th:only-of-type {\n",
       "        vertical-align: middle;\n",
       "    }\n",
       "\n",
       "    .dataframe tbody tr th {\n",
       "        vertical-align: top;\n",
       "    }\n",
       "\n",
       "    .dataframe thead th {\n",
       "        text-align: right;\n",
       "    }\n",
       "</style>\n",
       "<table border=\"1\" class=\"dataframe\">\n",
       "  <thead>\n",
       "    <tr style=\"text-align: right;\">\n",
       "      <th></th>\n",
       "      <th>Type</th>\n",
       "      <th>Expression</th>\n",
       "    </tr>\n",
       "  </thead>\n",
       "  <tbody>\n",
       "    <tr>\n",
       "      <th>0</th>\n",
       "      <td>BMDC</td>\n",
       "      <td>1.123415</td>\n",
       "    </tr>\n",
       "    <tr>\n",
       "      <th>1</th>\n",
       "      <td>TAM</td>\n",
       "      <td>2.615807</td>\n",
       "    </tr>\n",
       "    <tr>\n",
       "      <th>2</th>\n",
       "      <td>CD103+ DC</td>\n",
       "      <td>2.478867</td>\n",
       "    </tr>\n",
       "    <tr>\n",
       "      <th>3</th>\n",
       "      <td>BMDC</td>\n",
       "      <td>1.005495</td>\n",
       "    </tr>\n",
       "    <tr>\n",
       "      <th>4</th>\n",
       "      <td>TAM</td>\n",
       "      <td>2.518174</td>\n",
       "    </tr>\n",
       "  </tbody>\n",
       "</table>\n",
       "</div>"
      ],
      "text/plain": [
       "        Type  Expression\n",
       "0       BMDC    1.123415\n",
       "1        TAM    2.615807\n",
       "2  CD103+ DC    2.478867\n",
       "3       BMDC    1.005495\n",
       "4        TAM    2.518174"
      ]
     },
     "execution_count": 14,
     "metadata": {},
     "output_type": "execute_result"
    }
   ],
   "source": [
    "def Holm_Bonferroni(multiComp):\n",
    "    ''' Instead of the Tukey's test, we can do pairwise t-test '''\n",
    "    \n",
    "    # First, with the \"Holm\" correction\n",
    "    rtp = multiComp.allpairtest(stats.ttest_rel, method='Holm')\n",
    "    print((rtp[0]))\n",
    "    \n",
    "    # and then with the Bonferroni correction\n",
    "    print((multiComp.allpairtest(stats.ttest_rel, method='b')[0]))\n",
    "    \n",
    "    # Any value, for testing the program for correct execution\n",
    "    checkVal = rtp[1][0][0,0]\n",
    "    return checkVal\n",
    "\n",
    "group_1 = data_1['BMDC'].dropna()\n",
    "group_2 = data_1['TAM'].dropna()\n",
    "group_3 = data_1['CD103+ DC'].dropna()\n",
    "\n",
    "# do levene test\n",
    "(W_val, p_val) = stats.levene(group_1, group_2, group_3)\n",
    "if p_val < 0.05:\n",
    "    print(f'The p-value of the Levene test is < 0.05: p = {p_val:0.3f}. Therefore, we reject the null hypothesis that the three groups have an equal variance.')\n",
    "\n",
    "# do one-way ANOVA\n",
    "F_statistic, p_val = stats.f_oneway(group_1, group_2, group_3)\n",
    "if p_val < 0.05:\n",
    "    print('Since p-value from one-way ANOVA is < 0.05, one of the groups is significantly different.')\n",
    "\n",
    "merged = data_1.stack().reset_index().drop(columns='level_0').rename(columns={'level_1': 'Type', 0:'Expression'})\n",
    "merged_1 = merged[(merged.Type == 'BMDC') | (merged.Type == 'TAM') | (merged.Type == 'CD103+ DC')]\n",
    "merged_2 = merged[(merged.Type == 'BMDC') | (merged.Type == 'TAM.1') | (merged.Type == 'CD103+ DC.1')]\n",
    "\n",
    "# #Then, do the multiple testing\n",
    "# multiComp = MultiComparison(merged_1['Expression'], merged_1['Type'])\n",
    "    \n",
    "# checkVal = Holm_Bonferroni(multiComp)  # Alternatives to Tukey's HSD test\n",
    "\n",
    "\n",
    "merged.head()\n"
   ]
  },
  {
   "cell_type": "code",
   "execution_count": null,
   "metadata": {},
   "outputs": [],
   "source": []
  },
  {
   "cell_type": "code",
   "execution_count": null,
   "metadata": {},
   "outputs": [],
   "source": []
  },
  {
   "cell_type": "code",
   "execution_count": null,
   "metadata": {},
   "outputs": [
    {
     "data": {
      "image/png": "[encoded data removed]",
      "text/plain": [
       "<Figure size 1300x300 with 4 Axes>"
      ]
     },
     "metadata": {},
     "output_type": "display_data"
    }
   ],
   "source": [
    "# declare axes\n",
    "fig, (ax1, ax2, ax3, ax4) = plt.subplots(1, 4)\n",
    "\n",
    "# plot 2\n",
    "plot_2(data_1, fig, ax2, 'IRF4')\n",
    "ax1.set_ylabel('Fold induction (over BMDC)')\n",
    "plot_2(data_2, fig, ax3, 'PD1')\n",
    "plot_2(data_3, fig, ax1, 'CD44')\n",
    "plot_2(data_4, fig, ax4, 'TOX')\n"
   ]
  },
  {
   "cell_type": "markdown",
   "metadata": {},
   "source": [
    "### Figure 5G"
   ]
  },
  {
   "cell_type": "code",
   "execution_count": 43,
   "metadata": {},
   "outputs": [
    {
     "data": {
      "text/html": [
       "<div>\n",
       "<style scoped>\n",
       "    .dataframe tbody tr th:only-of-type {\n",
       "        vertical-align: middle;\n",
       "    }\n",
       "\n",
       "    .dataframe tbody tr th {\n",
       "        vertical-align: top;\n",
       "    }\n",
       "\n",
       "    .dataframe thead th {\n",
       "        text-align: right;\n",
       "    }\n",
       "</style>\n",
       "<table border=\"1\" class=\"dataframe\">\n",
       "  <thead>\n",
       "    <tr style=\"text-align: right;\">\n",
       "      <th></th>\n",
       "      <th>BMDC</th>\n",
       "      <th>BMDC+SL8</th>\n",
       "      <th>TAM 2</th>\n",
       "      <th>2x TAM 2</th>\n",
       "      <th>TAM 2</th>\n",
       "      <th>2x TAM 2</th>\n",
       "    </tr>\n",
       "  </thead>\n",
       "  <tbody>\n",
       "    <tr>\n",
       "      <th>1.5% O2</th>\n",
       "      <td>5.42</td>\n",
       "      <td>33.9</td>\n",
       "      <td>1.86</td>\n",
       "      <td>8.08</td>\n",
       "      <td>0.20</td>\n",
       "      <td>0.26</td>\n",
       "    </tr>\n",
       "    <tr>\n",
       "      <th>Unnamed: 6</th>\n",
       "      <td>0.30</td>\n",
       "      <td>36.1</td>\n",
       "      <td>1.82</td>\n",
       "      <td>9.66</td>\n",
       "      <td>0.24</td>\n",
       "      <td>0.24</td>\n",
       "    </tr>\n",
       "    <tr>\n",
       "      <th>Unnamed: 7</th>\n",
       "      <td>0.25</td>\n",
       "      <td>35.8</td>\n",
       "      <td>3.95</td>\n",
       "      <td>4.03</td>\n",
       "      <td>0.20</td>\n",
       "      <td>2.14</td>\n",
       "    </tr>\n",
       "    <tr>\n",
       "      <th>Unnamed: 8</th>\n",
       "      <td>0.18</td>\n",
       "      <td>36.5</td>\n",
       "      <td>3.25</td>\n",
       "      <td>NaN</td>\n",
       "      <td>0.17</td>\n",
       "      <td>0.78</td>\n",
       "    </tr>\n",
       "  </tbody>\n",
       "</table>\n",
       "</div>"
      ],
      "text/plain": [
       "            BMDC  BMDC+SL8  TAM 2  2x TAM 2  TAM 2  2x TAM 2\n",
       "1.5% O2     5.42      33.9   1.86      8.08   0.20      0.26\n",
       "Unnamed: 6  0.30      36.1   1.82      9.66   0.24      0.24\n",
       "Unnamed: 7  0.25      35.8   3.95      4.03   0.20      2.14\n",
       "Unnamed: 8  0.18      36.5   3.25       NaN   0.17      0.78"
      ]
     },
     "execution_count": 43,
     "metadata": {},
     "output_type": "execute_result"
    }
   ],
   "source": [
    "# load data\n",
    "data = pd.read_excel('data/Paper1_figure_5C.xls', skiprows=2, index_col=0).T\n",
    "o2_21 = data[:4]\n",
    "o2_15 = data[4:]\n",
    "# print data\n",
    "o2_15.rename(columns={'TAM': 'TAM 2', '2x TAM': '2x TAM 2'})"
   ]
  },
  {
   "cell_type": "code",
   "execution_count": null,
   "metadata": {},
   "outputs": [],
   "source": [
    "ss"
   ]
  },
  {
   "cell_type": "code",
   "execution_count": 39,
   "metadata": {},
   "outputs": [
    {
     "ename": "KeyError",
     "evalue": "'TAM.1'",
     "output_type": "error",
     "traceback": [
      "\u001b[1;31m---------------------------------------------------------------------------\u001b[0m",
      "\u001b[1;31mKeyError\u001b[0m                                  Traceback (most recent call last)",
      "File \u001b[1;32mc:\\Users\\yashw\\AppData\\Local\\Programs\\Python\\Python310\\lib\\site-packages\\pandas\\core\\indexes\\base.py:3803\u001b[0m, in \u001b[0;36mIndex.get_loc\u001b[1;34m(self, key, method, tolerance)\u001b[0m\n\u001b[0;32m   3802\u001b[0m \u001b[39mtry\u001b[39;00m:\n\u001b[1;32m-> 3803\u001b[0m     \u001b[39mreturn\u001b[39;00m \u001b[39mself\u001b[39;49m\u001b[39m.\u001b[39;49m_engine\u001b[39m.\u001b[39;49mget_loc(casted_key)\n\u001b[0;32m   3804\u001b[0m \u001b[39mexcept\u001b[39;00m \u001b[39mKeyError\u001b[39;00m \u001b[39mas\u001b[39;00m err:\n",
      "File \u001b[1;32mc:\\Users\\yashw\\AppData\\Local\\Programs\\Python\\Python310\\lib\\site-packages\\pandas\\_libs\\index.pyx:138\u001b[0m, in \u001b[0;36mpandas._libs.index.IndexEngine.get_loc\u001b[1;34m()\u001b[0m\n",
      "File \u001b[1;32mc:\\Users\\yashw\\AppData\\Local\\Programs\\Python\\Python310\\lib\\site-packages\\pandas\\_libs\\index.pyx:162\u001b[0m, in \u001b[0;36mpandas._libs.index.IndexEngine.get_loc\u001b[1;34m()\u001b[0m\n",
      "File \u001b[1;32mc:\\Users\\yashw\\AppData\\Local\\Programs\\Python\\Python310\\lib\\site-packages\\pandas\\_libs\\index.pyx:203\u001b[0m, in \u001b[0;36mpandas._libs.index.IndexEngine._get_loc_duplicates\u001b[1;34m()\u001b[0m\n",
      "File \u001b[1;32mc:\\Users\\yashw\\AppData\\Local\\Programs\\Python\\Python310\\lib\\site-packages\\pandas\\_libs\\index.pyx:211\u001b[0m, in \u001b[0;36mpandas._libs.index.IndexEngine._maybe_get_bool_indexer\u001b[1;34m()\u001b[0m\n",
      "File \u001b[1;32mc:\\Users\\yashw\\AppData\\Local\\Programs\\Python\\Python310\\lib\\site-packages\\pandas\\_libs\\index.pyx:107\u001b[0m, in \u001b[0;36mpandas._libs.index._unpack_bool_indexer\u001b[1;34m()\u001b[0m\n",
      "\u001b[1;31mKeyError\u001b[0m: 'TAM.1'",
      "\nThe above exception was the direct cause of the following exception:\n",
      "\u001b[1;31mKeyError\u001b[0m                                  Traceback (most recent call last)",
      "Cell \u001b[1;32mIn [39], line 5\u001b[0m\n\u001b[0;32m      1\u001b[0m \u001b[39m# for i in o2_15.columns[1:]:\u001b[39;00m\n\u001b[0;32m      2\u001b[0m \u001b[39m#    t_statistic, p_val = stats.ttest_ind(o2_15['BMDC'], o2_15[i]) \u001b[39;00m\n\u001b[0;32m      3\u001b[0m \u001b[39m#    print(i, p_val)\u001b[39;00m\n\u001b[1;32m----> 5\u001b[0m t_statistic, p_val \u001b[39m=\u001b[39m stats\u001b[39m.\u001b[39mttest_ind(o2_15[\u001b[39m'\u001b[39m\u001b[39mBMDC\u001b[39m\u001b[39m'\u001b[39m], o2_15[\u001b[39m'\u001b[39;49m\u001b[39mTAM.1\u001b[39;49m\u001b[39m'\u001b[39;49m]) \n\u001b[0;32m      6\u001b[0m \u001b[39mprint\u001b[39m(p_val)\n",
      "File \u001b[1;32mc:\\Users\\yashw\\AppData\\Local\\Programs\\Python\\Python310\\lib\\site-packages\\pandas\\core\\frame.py:3804\u001b[0m, in \u001b[0;36mDataFrame.__getitem__\u001b[1;34m(self, key)\u001b[0m\n\u001b[0;32m   3802\u001b[0m \u001b[39mif\u001b[39;00m \u001b[39mself\u001b[39m\u001b[39m.\u001b[39mcolumns\u001b[39m.\u001b[39mnlevels \u001b[39m>\u001b[39m \u001b[39m1\u001b[39m:\n\u001b[0;32m   3803\u001b[0m     \u001b[39mreturn\u001b[39;00m \u001b[39mself\u001b[39m\u001b[39m.\u001b[39m_getitem_multilevel(key)\n\u001b[1;32m-> 3804\u001b[0m indexer \u001b[39m=\u001b[39m \u001b[39mself\u001b[39;49m\u001b[39m.\u001b[39;49mcolumns\u001b[39m.\u001b[39;49mget_loc(key)\n\u001b[0;32m   3805\u001b[0m \u001b[39mif\u001b[39;00m is_integer(indexer):\n\u001b[0;32m   3806\u001b[0m     indexer \u001b[39m=\u001b[39m [indexer]\n",
      "File \u001b[1;32mc:\\Users\\yashw\\AppData\\Local\\Programs\\Python\\Python310\\lib\\site-packages\\pandas\\core\\indexes\\base.py:3805\u001b[0m, in \u001b[0;36mIndex.get_loc\u001b[1;34m(self, key, method, tolerance)\u001b[0m\n\u001b[0;32m   3803\u001b[0m     \u001b[39mreturn\u001b[39;00m \u001b[39mself\u001b[39m\u001b[39m.\u001b[39m_engine\u001b[39m.\u001b[39mget_loc(casted_key)\n\u001b[0;32m   3804\u001b[0m \u001b[39mexcept\u001b[39;00m \u001b[39mKeyError\u001b[39;00m \u001b[39mas\u001b[39;00m err:\n\u001b[1;32m-> 3805\u001b[0m     \u001b[39mraise\u001b[39;00m \u001b[39mKeyError\u001b[39;00m(key) \u001b[39mfrom\u001b[39;00m \u001b[39merr\u001b[39;00m\n\u001b[0;32m   3806\u001b[0m \u001b[39mexcept\u001b[39;00m \u001b[39mTypeError\u001b[39;00m:\n\u001b[0;32m   3807\u001b[0m     \u001b[39m# If we have a listlike key, _check_indexing_error will raise\u001b[39;00m\n\u001b[0;32m   3808\u001b[0m     \u001b[39m#  InvalidIndexError. Otherwise we fall through and re-raise\u001b[39;00m\n\u001b[0;32m   3809\u001b[0m     \u001b[39m#  the TypeError.\u001b[39;00m\n\u001b[0;32m   3810\u001b[0m     \u001b[39mself\u001b[39m\u001b[39m.\u001b[39m_check_indexing_error(key)\n",
      "\u001b[1;31mKeyError\u001b[0m: 'TAM.1'"
     ]
    }
   ],
   "source": [
    "# for i in o2_15.columns[1:]:\n",
    "#    t_statistic, p_val = stats.ttest_ind(o2_15['BMDC'], o2_15[i]) \n",
    "#    print(i, p_val)\n",
    "\n",
    "t_statistic, p_val = stats.ttest_ind(o2_15['BMDC'], o2_15['TAM.1']) \n",
    "print(p_val)\n"
   ]
  },
  {
   "cell_type": "code",
   "execution_count": null,
   "metadata": {},
   "outputs": [
    {
     "data": {
      "image/png": "[encoded data removed]",
      "text/plain": [
       "<Figure size 640x480 with 1 Axes>"
      ]
     },
     "metadata": {},
     "output_type": "display_data"
    }
   ],
   "source": [
    "# declare figure and axes\n",
    "fig, ax = plt.subplots()\n",
    "x_locs = np.arange(0, 12, 2)\n",
    "# ax.set_yscale(\"log\", nonpositive='clip')\n",
    "\n",
    "# 21% O2 plot\n",
    "ax.bar(\n",
    "    x_locs-0.25,\n",
    "    o2_21.mean(),\n",
    "    yerr=[np.zeros(6), o2_21.std()],\n",
    "    # error_kw={zorder:0}\n",
    "    width=0.5,\n",
    "    color='#000000',\n",
    "    label='%21 O2'\n",
    ")\n",
    "\n",
    "# 1.5% O2 plot\n",
    "ax.bar(\n",
    "    x_locs+0.25,\n",
    "    o2_15.mean(),\n",
    "    yerr=[np.zeros(6), o2_15.std()],\n",
    "    width=0.5,\n",
    "    color='#eb4034',\n",
    "    label='%1.5 O2'\n",
    ")\n",
    "\n",
    "# more params\n",
    "ax.set_xticks(x_locs, ['BMDC', 'BMDC+SL8', 'TAM', '2X TAM', 'TAM.1', '2X TAM.1'])\n",
    "ax.set_ylabel('%PD-1 of total CD8')\n",
    "ax.legend()\n",
    "ax.tick_params(axis='x', labelrotation=45)  \n",
    "\n",
    "# fig.set_size_inches([13, 3])"
   ]
  }
 ],
 "metadata": {
  "kernelspec": {
   "display_name": "Python 3.10.5 64-bit",
   "language": "python",
   "name": "python3"
  },
  "language_info": {
   "codemirror_mode": {
    "name": "ipython",
    "version": 3
   },
   "file_extension": ".py",
   "mimetype": "text/x-python",
   "name": "python",
   "nbconvert_exporter": "python",
   "pygments_lexer": "ipython3",
   "version": "3.10.5"
  },
  "orig_nbformat": 4,
  "vscode": {
   "interpreter": {
    "hash": "e480c6674d5508fc8d9591b96da2b4549be3a1df6840d924f135492fd8e36576"
   }
  }
 },
 "nbformat": 4,
 "nbformat_minor": 2
}
