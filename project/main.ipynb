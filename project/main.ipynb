{
 "cells": [
  {
   "cell_type": "code",
   "execution_count": 2,
   "metadata": {},
   "outputs": [],
   "source": [
    "# import libraries:\n",
    "import numpy as np\n",
    "import pandas as pd\n",
    "import matplotlib.pyplot as plt\n",
    "from scipy import stats\n",
    "from statsmodels.stats.multicomp import (pairwise_tukeyhsd,\n",
    "                                         MultiComparison)\n",
    "from statsmodels.formula.api import ols\n",
    "from statsmodels.stats.anova import anova_lm\n",
    "from statsmodels.stats.libqsturng import psturng"
   ]
  },
  {
   "cell_type": "markdown",
   "metadata": {},
   "source": [
    "### Figure 3G"
   ]
  },
  {
   "cell_type": "code",
   "execution_count": 3,
   "metadata": {},
   "outputs": [
    {
     "data": {
      "text/html": [
       "<div>\n",
       "<style scoped>\n",
       "    .dataframe tbody tr th:only-of-type {\n",
       "        vertical-align: middle;\n",
       "    }\n",
       "\n",
       "    .dataframe tbody tr th {\n",
       "        vertical-align: top;\n",
       "    }\n",
       "\n",
       "    .dataframe thead th {\n",
       "        text-align: right;\n",
       "    }\n",
       "</style>\n",
       "<table border=\"1\" class=\"dataframe\">\n",
       "  <thead>\n",
       "    <tr style=\"text-align: right;\">\n",
       "      <th></th>\n",
       "      <th>IgG2b</th>\n",
       "      <th>anti-CD4</th>\n",
       "      <th>anti-CD8</th>\n",
       "    </tr>\n",
       "  </thead>\n",
       "  <tbody>\n",
       "    <tr>\n",
       "      <th>0</th>\n",
       "      <td>12.334</td>\n",
       "      <td>11.063</td>\n",
       "      <td>4.859</td>\n",
       "    </tr>\n",
       "    <tr>\n",
       "      <th>1</th>\n",
       "      <td>10.017</td>\n",
       "      <td>11.238</td>\n",
       "      <td>5.842</td>\n",
       "    </tr>\n",
       "    <tr>\n",
       "      <th>2</th>\n",
       "      <td>10.054</td>\n",
       "      <td>11.598</td>\n",
       "      <td>6.592</td>\n",
       "    </tr>\n",
       "    <tr>\n",
       "      <th>3</th>\n",
       "      <td>7.440</td>\n",
       "      <td>11.355</td>\n",
       "      <td>6.613</td>\n",
       "    </tr>\n",
       "    <tr>\n",
       "      <th>4</th>\n",
       "      <td>10.090</td>\n",
       "      <td>11.986</td>\n",
       "      <td>NaN</td>\n",
       "    </tr>\n",
       "    <tr>\n",
       "      <th>5</th>\n",
       "      <td>9.682</td>\n",
       "      <td>11.210</td>\n",
       "      <td>NaN</td>\n",
       "    </tr>\n",
       "    <tr>\n",
       "      <th>6</th>\n",
       "      <td>10.049</td>\n",
       "      <td>NaN</td>\n",
       "      <td>NaN</td>\n",
       "    </tr>\n",
       "  </tbody>\n",
       "</table>\n",
       "</div>"
      ],
      "text/plain": [
       "    IgG2b  anti-CD4  anti-CD8\n",
       "0  12.334    11.063     4.859\n",
       "1  10.017    11.238     5.842\n",
       "2  10.054    11.598     6.592\n",
       "3   7.440    11.355     6.613\n",
       "4  10.090    11.986       NaN\n",
       "5   9.682    11.210       NaN\n",
       "6  10.049       NaN       NaN"
      ]
     },
     "execution_count": 3,
     "metadata": {},
     "output_type": "execute_result"
    }
   ],
   "source": [
    "# load data\n",
    "data_1 = pd.read_excel('data/Paper1_figure_3G.xls', skiprows=2, sheet_name='Sheet1')\n",
    "data_2 = pd.read_excel('data/Paper1_figure_3G.xls', skiprows=2, sheet_name='Sheet2')\n",
    "data_3 = pd.read_excel('data/Paper1_figure_3G.xls', skiprows=2, sheet_name='Sheet3')\n",
    "data_4 = pd.read_excel('data/Paper1_figure_3G.xls', skiprows=2, sheet_name='Sheet4')\n",
    "\n",
    "data_1\n"
   ]
  },
  {
   "cell_type": "code",
   "execution_count": 4,
   "metadata": {},
   "outputs": [],
   "source": [
    "# PLOT FUNCTION\n",
    "def plot_1(data, fig, axes):\n",
    "    for i in range(3):\n",
    "        axes.scatter(1*np.ones(len(data['IgG2b'])), \n",
    "                     data['IgG2b'], \n",
    "                     color='#000000')\n",
    "        axes.scatter(2*np.ones(len(data['anti-CD4'])), \n",
    "                     data['anti-CD4'], \n",
    "                     color='#2c51b0')\n",
    "        axes.scatter(3*np.ones(len(data['anti-CD8'])), \n",
    "                     data['anti-CD8'], \n",
    "                     color='#eb4034')\n",
    "\n",
    "    # the error bars\n",
    "    axes.bar(1,\n",
    "            height=np.mean(data['IgG2b']),\n",
    "            yerr=np.std(data['IgG2b']),    # error bars\n",
    "            capsize=15, # error bar cap width in points\n",
    "            color=(0, 0, 0, 0),  # face color transparent\n",
    "            edgecolor=(0, 0, 0, 0),\n",
    "            )\n",
    "\n",
    "    axes.bar(2,\n",
    "            height=np.mean(data['anti-CD4']),\n",
    "            yerr=np.std(data['anti-CD4']),    # error bars\n",
    "            capsize=15, # error bar cap width in points\n",
    "            color=(0, 0, 0, 0),  # face color transparent\n",
    "            edgecolor=(0, 0, 0, 0),\n",
    "            )      \n",
    "\n",
    "    axes.bar(3,\n",
    "            height=np.mean(data['anti-CD8']),\n",
    "            yerr=np.std(data['anti-CD8']),    # error bars\n",
    "            capsize=15, # error bar cap width in points\n",
    "            color=(0, 0, 0, 0),  # face color transparent\n",
    "            edgecolor=(0, 0, 0, 0),\n",
    "            )    \n",
    "\n",
    "    # more parameters\n",
    "    axes.set_xlim([0.5, 3.5])\n",
    "    axes.set_xticks([1, 2, 3], ['IgG2b', 'anti-CD4', 'anti-CD8'])\n",
    "    fig.set_size_inches([13, 3])\n",
    "\n",
    "def mann_whitney(data):\n",
    "    (t, p_val_1) = stats.mannwhitneyu(data['IgG2b'], data['anti-CD4'], nan_policy='omit')\n",
    "    (t, p_val_2) = stats.mannwhitneyu(data['IgG2b'], data['anti-CD8'], nan_policy='omit')\n",
    "    print(f'anti-CD4 => {p_val_1:0.3f} & anti-CD8 => {p_val_2:0.3f}')\n",
    "        \n",
    "    "
   ]
  },
  {
   "cell_type": "code",
   "execution_count": 5,
   "metadata": {},
   "outputs": [
    {
     "data": {
      "text/plain": [
       "Text(2.8, 2.7, '*')"
      ]
     },
     "execution_count": 5,
     "metadata": {},
     "output_type": "execute_result"
    },
    {
     "data": {
      "image/png": "[encoded data removed]",
      "text/plain": [
       "<Figure size 1300x300 with 4 Axes>"
      ]
     },
     "metadata": {},
     "output_type": "display_data"
    }
   ],
   "source": [
    "# DRIVER CODE\n",
    "\n",
    "# declare axes\n",
    "fig, (ax1, ax2, ax3, ax4) = plt.subplots(1, 4)\n",
    "\n",
    "# plot 1\n",
    "plot_1(data_1, fig, ax1)\n",
    "ax1.set_title('H2kb')\n",
    "ax1.set_ylabel('gMFI (x1000)')\n",
    "ax1.text(2.80, 7, '**', size=20, fontweight='bold')\n",
    "plot_1(data_3, fig, ax2)\n",
    "ax2.set_title('MHC-II')\n",
    "ax2.text(2.80, 0.5, '**', size=20, fontweight='bold')\n",
    "plot_1(data_4, fig, ax3)\n",
    "ax3.set_title('CD11c') \n",
    "ax3.text(2.80, 1.2, '*', size=20, fontweight='bold')\n",
    "plot_1(data_2, fig, ax4)\n",
    "ax4.set_title('CD206')\n",
    "ax4.text(2.80, 2.7, '*', size=20, fontweight='bold')\n",
    "\n"
   ]
  },
  {
   "cell_type": "code",
   "execution_count": 6,
   "metadata": {},
   "outputs": [
    {
     "name": "stdout",
     "output_type": "stream",
     "text": [
      "anti-CD4 => 0.035 & anti-CD8 => 0.006\n"
     ]
    }
   ],
   "source": [
    "# do Mann-Whitney test for H2kb\n",
    "mann_whitney(data_1)"
   ]
  },
  {
   "cell_type": "code",
   "execution_count": 7,
   "metadata": {},
   "outputs": [
    {
     "name": "stdout",
     "output_type": "stream",
     "text": [
      "anti-CD4 => 0.534 & anti-CD8 => 0.006\n"
     ]
    }
   ],
   "source": [
    "# do Mann-Whitney test for MHC-II\n",
    "mann_whitney(data_3)"
   ]
  },
  {
   "cell_type": "code",
   "execution_count": 8,
   "metadata": {},
   "outputs": [
    {
     "name": "stdout",
     "output_type": "stream",
     "text": [
      "anti-CD4 => 0.445 & anti-CD8 => 0.024\n"
     ]
    }
   ],
   "source": [
    "# do Mann-Whitney test for CD11c\n",
    "mann_whitney(data_4)"
   ]
  },
  {
   "cell_type": "code",
   "execution_count": 9,
   "metadata": {},
   "outputs": [
    {
     "name": "stdout",
     "output_type": "stream",
     "text": [
      "anti-CD4 => 0.534 & anti-CD8 => 0.042\n"
     ]
    }
   ],
   "source": [
    "# do Mann-Whitney test for CD206\n",
    "mann_whitney(data_2)"
   ]
  },
  {
   "cell_type": "markdown",
   "metadata": {},
   "source": [
    "### Figure 5A"
   ]
  },
  {
   "cell_type": "code",
   "execution_count": 10,
   "metadata": {},
   "outputs": [],
   "source": [
    "# FUNCTION\n",
    "def plot_2(data, fig, axes, title):\n",
    "    color = '#eb4034'\n",
    "    for i in range(3):\n",
    "        axes.scatter(1*np.ones(len(data['BMDC'])), \n",
    "                data['BMDC'], \n",
    "                color=color)\n",
    "        axes.scatter(2*np.ones(len(data['TAM'])), \n",
    "                data['TAM'], \n",
    "                color=color)\n",
    "        axes.scatter(3*np.ones(len(data['CD103+ DC'])), \n",
    "                data['CD103+ DC'], \n",
    "                color=color)\n",
    "        axes.scatter(4*np.ones(len(data['TAM.1'])), \n",
    "                data['TAM.1'], \n",
    "                color=color)\n",
    "        axes.scatter(5*np.ones(len(data['CD103+ DC.1'])), \n",
    "                data['CD103+ DC.1'], \n",
    "                color=color)\n",
    "\n",
    "    # the error bars\n",
    "    axes.bar(1,\n",
    "            height=np.mean(data['BMDC']),\n",
    "            yerr=np.std(data['BMDC']),    # error bars\n",
    "            capsize=10, # error bar cap width in points\n",
    "            color=(0, 0, 0, 0),  # face color transparent\n",
    "            edgecolor=(0, 0, 0, 0),\n",
    "            )\n",
    "\n",
    "    axes.bar(2,\n",
    "        height=np.mean(data['TAM']),\n",
    "        yerr=np.std(data['TAM']),    # error bars\n",
    "        capsize=10, # error bar cap width in points\n",
    "        color=(0, 0, 0, 0),  # face color transparent\n",
    "        edgecolor=(0, 0, 0, 0),\n",
    "        )      \n",
    "\n",
    "    axes.bar(3,\n",
    "            height=np.mean(data['CD103+ DC']),\n",
    "            yerr=np.std(data['CD103+ DC']),    # error bars\n",
    "            capsize=7, # error bar cap width in points\n",
    "            color=(0, 0, 0, 0),  # face color transparent\n",
    "            edgecolor=(0, 0, 0, 0),\n",
    "            ) \n",
    "    axes.bar(4,\n",
    "            height=np.mean(data['TAM.1']),\n",
    "            yerr=np.std(data['TAM.1']),    # error bars\n",
    "            capsize=7, # error bar cap width in points\n",
    "            color=(0, 0, 0, 0),  # face color transparent\n",
    "            edgecolor=(0, 0, 0, 0),\n",
    "            )      \n",
    "    axes.bar(5,\n",
    "            height=np.mean(data['CD103+ DC.1']),\n",
    "            yerr=np.std(data['CD103+ DC.1']),    # error bars\n",
    "            capsize=7, # error bar cap width in points\n",
    "            color=(0, 0, 0, 0),  # face color transparent\n",
    "            edgecolor=(0, 0, 0, 0),\n",
    "            )      \n",
    "\n",
    "\n",
    "    # more parameters\n",
    "    # axes.set_xlim([0.5, 5])\n",
    "    axes.set_xticks([1, 2, 3, 4, 5], ['BMDC', 'TAM', 'CD103+ DC', 'TAM.1', 'CD103+ DC.1'])\n",
    "    axes.tick_params(axis='x', labelrotation=55)  \n",
    "    axes.set_title(title)\n",
    "    fig.set_size_inches([13, 3])"
   ]
  },
  {
   "cell_type": "code",
   "execution_count": 11,
   "metadata": {},
   "outputs": [],
   "source": [
    "# load data\n",
    "data_1 = pd.read_excel('data/Paper1_figure_5A.xls', sheet_name='Sheet1', skiprows=2)\n",
    "data_2 = pd.read_excel('data/Paper1_figure_5A.xls', sheet_name='Sheet2', skiprows=2)\n",
    "data_3 = pd.read_excel('data/Paper1_figure_5A.xls', sheet_name='Sheet3', skiprows=2)\n",
    "data_4 = pd.read_excel('data/Paper1_figure_5A.xls', sheet_name='Sheet4', skiprows=2)\n",
    "\n",
    "\n",
    "# print data\n"
   ]
  },
  {
   "cell_type": "code",
   "execution_count": 58,
   "metadata": {},
   "outputs": [],
   "source": [
    "\n",
    "# tests function\n",
    "def tests_for_two(data):\n",
    "    group_1 = data['BMDC'].dropna()\n",
    "    group_2 = data['TAM'].dropna()\n",
    "    group_3 = data['CD103+ DC'].dropna()\n",
    "\n",
    "    # do levene test\n",
    "    (W_val, p_val) = stats.levene(group_1, group_2, group_3)\n",
    "    if p_val < 0.05:\n",
    "        print(f'The p-value of the Levene test is < 0.05: p = {p_val:0.3f}. Therefore, we reject the null hypothesis that the three groups have an equal variance.')\n",
    "\n",
    "    # do one-way ANOVA\n",
    "    F_statistic, p_val = stats.f_oneway(group_1, group_2, group_3)\n",
    "    if p_val < 0.05:\n",
    "        print('Since p-value from one-way ANOVA is < 0.05, one of the groups is significantly different.')\n",
    "\n",
    "    merged = data.stack().reset_index().drop(columns='level_0').rename(columns={'level_1': 'Type', 0:'Expression'})\n",
    "\n",
    "    # #Then, do the multiple testing\n",
    "    multiComp = MultiComparison(merged['Expression'], merged['Type'])\n",
    "        \n",
    "    # checkVal = Holm_Bonferroni(multiComp)  # Alternatives to Tukey's HSD test\n",
    "    print('Then, we move on to the multi-comparison to determine which groups are different.')\n",
    "    print(multiComp.tukeyhsd().summary())\n"
   ]
  },
  {
   "cell_type": "code",
   "execution_count": 59,
   "metadata": {},
   "outputs": [
    {
     "name": "stdout",
     "output_type": "stream",
     "text": [
      "The p-value of the Levene test is < 0.05: p = 0.008. Therefore, we reject the null hypothesis that the three groups have an equal variance.\n",
      "Since p-value from one-way ANOVA is < 0.05, one of the groups is significantly different.\n",
      "Then, we move on to the multi-comparison to determine which groups are different.\n",
      "     Multiple Comparison of Means - Tukey HSD, FWER=0.05      \n",
      "==============================================================\n",
      "   group1      group2   meandiff p-adj   lower   upper  reject\n",
      "--------------------------------------------------------------\n",
      "       BMDC   CD103+ DC   1.9739  0.003  0.5476  3.4002   True\n",
      "       BMDC CD103+ DC.1   0.0698    1.0 -1.6178  1.7575  False\n",
      "       BMDC         TAM    2.123    0.0  1.2209   3.025   True\n",
      "       BMDC       TAM.1   0.4764 0.6257  -0.498  1.4507  False\n",
      "  CD103+ DC CD103+ DC.1   -1.904 0.0719 -3.9211  0.1131  False\n",
      "  CD103+ DC         TAM   0.1491 0.9981 -1.2772  1.5754  False\n",
      "  CD103+ DC       TAM.1  -1.4975 0.0448 -2.9706 -0.0244   True\n",
      "CD103+ DC.1         TAM   2.0531 0.0108  0.3655  3.7407   True\n",
      "CD103+ DC.1       TAM.1   0.4065 0.9597 -1.3208  2.1339  False\n",
      "        TAM       TAM.1  -1.6466 0.0002  -2.621 -0.6722   True\n",
      "--------------------------------------------------------------\n",
      "The p-value of the Levene test is < 0.05: p = 0.005. Therefore, we reject the null hypothesis that the three groups have an equal variance.\n",
      "Since p-value from one-way ANOVA is < 0.05, one of the groups is significantly different.\n",
      "Then, we move on to the multi-comparison to determine which groups are different.\n",
      "      Multiple Comparison of Means - Tukey HSD, FWER=0.05      \n",
      "===============================================================\n",
      "   group1      group2   meandiff p-adj   lower    upper  reject\n",
      "---------------------------------------------------------------\n",
      "       BMDC   CD103+ DC   6.0867 0.0023   1.7855 10.3879   True\n",
      "       BMDC CD103+ DC.1   0.9096 0.9852  -4.1796  5.9989  False\n",
      "       BMDC         TAM   2.8341 0.0378   0.1138  5.5544   True\n",
      "       BMDC       TAM.1    0.691 0.9598  -2.2473  3.6292  False\n",
      "  CD103+ DC CD103+ DC.1  -5.1771 0.1261 -11.2599  0.9057  False\n",
      "  CD103+ DC         TAM  -3.2527 0.2119  -7.5539  1.0485  False\n",
      "  CD103+ DC       TAM.1  -5.3958  0.011   -9.838 -0.9535   True\n",
      "CD103+ DC.1         TAM   1.9244   0.81  -3.1648  7.0137  False\n",
      "CD103+ DC.1       TAM.1  -0.2187 0.9999  -5.4277  4.9903  False\n",
      "        TAM       TAM.1  -2.1431 0.2426  -5.0814  0.7952  False\n",
      "---------------------------------------------------------------\n",
      "The p-value of the Levene test is < 0.05: p = 0.001. Therefore, we reject the null hypothesis that the three groups have an equal variance.\n",
      "Since p-value from one-way ANOVA is < 0.05, one of the groups is significantly different.\n",
      "Then, we move on to the multi-comparison to determine which groups are different.\n",
      "     Multiple Comparison of Means - Tukey HSD, FWER=0.05      \n",
      "==============================================================\n",
      "   group1      group2   meandiff p-adj   lower   upper  reject\n",
      "--------------------------------------------------------------\n",
      "       BMDC   CD103+ DC    1.663    0.0   1.175   2.151   True\n",
      "       BMDC CD103+ DC.1   0.5691  0.055 -0.0083  1.1465  False\n",
      "       BMDC         TAM   0.4697  0.001   0.161  0.7783   True\n",
      "       BMDC       TAM.1   0.2488 0.2229 -0.0846  0.5821  False\n",
      "  CD103+ DC CD103+ DC.1  -1.0939 0.0006  -1.784 -0.4038   True\n",
      "  CD103+ DC         TAM  -1.1933    0.0 -1.6813 -0.7054   True\n",
      "  CD103+ DC       TAM.1  -1.4142    0.0 -1.9182 -0.9102   True\n",
      "CD103+ DC.1         TAM  -0.0994 0.9871 -0.6768   0.478  False\n",
      "CD103+ DC.1       TAM.1  -0.3203 0.5304 -0.9113  0.2707  False\n",
      "        TAM       TAM.1  -0.2209 0.3316 -0.5542  0.1125  False\n",
      "--------------------------------------------------------------\n",
      "Since p-value from one-way ANOVA is < 0.05, one of the groups is significantly different.\n",
      "Then, we move on to the multi-comparison to determine which groups are different.\n",
      "     Multiple Comparison of Means - Tukey HSD, FWER=0.05     \n",
      "=============================================================\n",
      "   group1      group2   meandiff p-adj   lower  upper  reject\n",
      "-------------------------------------------------------------\n",
      "       BMDC   CD103+ DC   2.1377 0.0008  0.7854   3.49   True\n",
      "       BMDC CD103+ DC.1    0.761 0.4818 -0.5913 2.1133  False\n",
      "       BMDC         TAM   1.3874 0.0003  0.5719 2.2028   True\n",
      "       BMDC       TAM.1   1.0049 0.0103  0.1894 1.8203   True\n",
      "  CD103+ DC CD103+ DC.1  -1.3767 0.1674 -3.1066 0.3532  False\n",
      "  CD103+ DC         TAM  -0.7504 0.4956 -2.1027 0.6019  False\n",
      "  CD103+ DC       TAM.1  -1.1328  0.133 -2.4851 0.2195  False\n",
      "CD103+ DC.1         TAM   0.6263 0.6597  -0.726 1.9786  False\n",
      "CD103+ DC.1       TAM.1   0.2439 0.9836 -1.1084 1.5962  False\n",
      "        TAM       TAM.1  -0.3825 0.6493 -1.1979  0.433  False\n",
      "-------------------------------------------------------------\n"
     ]
    }
   ],
   "source": [
    "# run tests\n",
    "tests_for_two(data_1)\n",
    "tests_for_two(data_2)\n",
    "tests_for_two(data_3)\n",
    "tests_for_two(data_4)"
   ]
  },
  {
   "cell_type": "code",
   "execution_count": 130,
   "metadata": {},
   "outputs": [
    {
     "data": {
      "text/plain": [
       "Text(2.7, 2.2, '***')"
      ]
     },
     "execution_count": 130,
     "metadata": {},
     "output_type": "execute_result"
    },
    {
     "data": {
      "image/png": "[encoded data removed]",
      "text/plain": [
       "<Figure size 1300x300 with 4 Axes>"
      ]
     },
     "metadata": {},
     "output_type": "display_data"
    }
   ],
   "source": [
    "# declare axes\n",
    "fig, (ax1, ax2, ax3, ax4) = plt.subplots(1, 4)\n",
    "\n",
    "# plot 2\n",
    "plot_2(data_1, fig, ax2, 'IRF4')\n",
    "ax2.text(1.7, 1.2, '****', size=12, fontweight='bold')\n",
    "ax2.text(2.8, 1.3, '**', size=12, fontweight='bold')\n",
    "plot_2(data_2, fig, ax3, 'PD1')\n",
    "ax3.text(1.9, 9, '*', size=12, fontweight='bold')\n",
    "ax3.text(2.3, 14, '**', size=12, fontweight='bold')\n",
    "plot_2(data_3, fig, ax1, 'CD44')\n",
    "ax1.set_ylabel('Fold induction (over BMDC)')\n",
    "ax1.text(1.7, 2.0, '***', size=12, fontweight='bold')\n",
    "ax1.text(2.6, 1.8, '****', size=12, fontweight='bold')\n",
    "plot_2(data_4, fig, ax4, 'TOX')\n",
    "ax4.text(1.7, 1.0, '***', size=12, fontweight='bold')\n",
    "ax4.text(2.7, 2.2, '***', size=12, fontweight='bold')\n"
   ]
  },
  {
   "cell_type": "markdown",
   "metadata": {},
   "source": [
    "### Figure 5G"
   ]
  },
  {
   "cell_type": "code",
   "execution_count": 75,
   "metadata": {},
   "outputs": [
    {
     "data": {
      "text/html": [
       "<div>\n",
       "<style scoped>\n",
       "    .dataframe tbody tr th:only-of-type {\n",
       "        vertical-align: middle;\n",
       "    }\n",
       "\n",
       "    .dataframe tbody tr th {\n",
       "        vertical-align: top;\n",
       "    }\n",
       "\n",
       "    .dataframe thead th {\n",
       "        text-align: right;\n",
       "    }\n",
       "</style>\n",
       "<table border=\"1\" class=\"dataframe\">\n",
       "  <thead>\n",
       "    <tr style=\"text-align: right;\">\n",
       "      <th></th>\n",
       "      <th>BMDC</th>\n",
       "      <th>BMDC+SL8</th>\n",
       "      <th>TAM_B16ChOVA</th>\n",
       "      <th>2x TAM_B16ChOVA</th>\n",
       "      <th>TAM_B16F10</th>\n",
       "      <th>2x TAM_B16F10</th>\n",
       "    </tr>\n",
       "  </thead>\n",
       "  <tbody>\n",
       "    <tr>\n",
       "      <th>1.5% O2</th>\n",
       "      <td>5.42</td>\n",
       "      <td>33.9</td>\n",
       "      <td>1.86</td>\n",
       "      <td>8.08</td>\n",
       "      <td>0.20</td>\n",
       "      <td>0.26</td>\n",
       "    </tr>\n",
       "    <tr>\n",
       "      <th>Unnamed: 6</th>\n",
       "      <td>0.30</td>\n",
       "      <td>36.1</td>\n",
       "      <td>1.82</td>\n",
       "      <td>9.66</td>\n",
       "      <td>0.24</td>\n",
       "      <td>0.24</td>\n",
       "    </tr>\n",
       "    <tr>\n",
       "      <th>Unnamed: 7</th>\n",
       "      <td>0.25</td>\n",
       "      <td>35.8</td>\n",
       "      <td>3.95</td>\n",
       "      <td>4.03</td>\n",
       "      <td>0.20</td>\n",
       "      <td>2.14</td>\n",
       "    </tr>\n",
       "    <tr>\n",
       "      <th>Unnamed: 8</th>\n",
       "      <td>0.18</td>\n",
       "      <td>36.5</td>\n",
       "      <td>3.25</td>\n",
       "      <td>NaN</td>\n",
       "      <td>0.17</td>\n",
       "      <td>0.78</td>\n",
       "    </tr>\n",
       "  </tbody>\n",
       "</table>\n",
       "</div>"
      ],
      "text/plain": [
       "            BMDC  BMDC+SL8  TAM_B16ChOVA  2x TAM_B16ChOVA  TAM_B16F10  \\\n",
       "1.5% O2     5.42      33.9          1.86             8.08        0.20   \n",
       "Unnamed: 6  0.30      36.1          1.82             9.66        0.24   \n",
       "Unnamed: 7  0.25      35.8          3.95             4.03        0.20   \n",
       "Unnamed: 8  0.18      36.5          3.25              NaN        0.17   \n",
       "\n",
       "            2x TAM_B16F10  \n",
       "1.5% O2              0.26  \n",
       "Unnamed: 6           0.24  \n",
       "Unnamed: 7           2.14  \n",
       "Unnamed: 8           0.78  "
      ]
     },
     "execution_count": 75,
     "metadata": {},
     "output_type": "execute_result"
    }
   ],
   "source": [
    "# load data\n",
    "data = pd.read_excel('data/Paper1_figure_5C.xls', skiprows=2, index_col=0).T\n",
    "o2_21 = pd.DataFrame(data[:4])\n",
    "o2_15 = pd.DataFrame(data[4:])\n",
    "# print data\n",
    "o2_15"
   ]
  },
  {
   "cell_type": "code",
   "execution_count": 78,
   "metadata": {},
   "outputs": [
    {
     "name": "stdout",
     "output_type": "stream",
     "text": [
      "Since the p-value of BMDC+SL8 is 0.000, this group is significant.\n",
      "Since the p-value of 2x TAM_B16ChOVA is 0.040, this group is significant.\n"
     ]
    }
   ],
   "source": [
    "for i in o2_15.columns[1:]:\n",
    "   t_statistic, p_val = stats.ttest_ind(o2_15['BMDC'], o2_15[i].dropna()) \n",
    "   if p_val < 0.05:\n",
    "        print(f'Since the p-value of {i} is {p_val:0.3f}, this group is significant.')"
   ]
  },
  {
   "cell_type": "code",
   "execution_count": 87,
   "metadata": {},
   "outputs": [
    {
     "data": {
      "text/plain": [
       "Text(6.5, 10, '*')"
      ]
     },
     "execution_count": 87,
     "metadata": {},
     "output_type": "execute_result"
    },
    {
     "data": {
      "image/png": "[encoded data removed]",
      "text/plain": [
       "<Figure size 640x480 with 1 Axes>"
      ]
     },
     "metadata": {},
     "output_type": "display_data"
    }
   ],
   "source": [
    "# declare figure and axes\n",
    "fig, ax = plt.subplots()\n",
    "x_locs = np.arange(0, 12, 2)\n",
    "# ax.set_yscale(\"log\", nonpositive='clip')\n",
    "\n",
    "# 21% O2 plot\n",
    "ax.bar(\n",
    "    x_locs-0.25,\n",
    "    o2_21.mean(),\n",
    "    yerr=[np.zeros(6), o2_21.std()],\n",
    "    # error_kw={zorder:0}\n",
    "    width=0.5,\n",
    "    color='#000000',\n",
    "    label='%21 O2'\n",
    ")\n",
    "\n",
    "# 1.5% O2 plot\n",
    "ax.bar(\n",
    "    x_locs+0.25,\n",
    "    o2_15.mean(),\n",
    "    yerr=[np.zeros(6), o2_15.std()],\n",
    "    width=0.5,\n",
    "    color='#eb4034',\n",
    "    label='%1.5 O2'\n",
    ")\n",
    "\n",
    "# more params\n",
    "ax.set_xticks(x_locs, ['BMDC', 'BMDC+SL8', 'TAM_B16ChOVA', '2X TAM_B16ChOVA', 'TAM_B16F10', '2X TAM_B16F10'], size=8)\n",
    "ax.set_ylabel('%PD-1 of total CD8')\n",
    "ax.legend()\n",
    "ax.tick_params(axis='x', labelrotation=45)  \n",
    "ax.text(2.5, 35, '****', size=20, fontweight='bold')\n",
    "ax.text(6.5, 10, '*', size=20, fontweight='bold')\n",
    "\n",
    "# fig.set_size_inches([13, 3])"
   ]
  }
 ],
 "metadata": {
  "kernelspec": {
   "display_name": "Python 3.10.5 64-bit",
   "language": "python",
   "name": "python3"
  },
  "language_info": {
   "codemirror_mode": {
    "name": "ipython",
    "version": 3
   },
   "file_extension": ".py",
   "mimetype": "text/x-python",
   "name": "python",
   "nbconvert_exporter": "python",
   "pygments_lexer": "ipython3",
   "version": "3.10.5"
  },
  "orig_nbformat": 4,
  "vscode": {
   "interpreter": {
    "hash": "e480c6674d5508fc8d9591b96da2b4549be3a1df6840d924f135492fd8e36576"
   }
  }
 },
 "nbformat": 4,
 "nbformat_minor": 2
}
