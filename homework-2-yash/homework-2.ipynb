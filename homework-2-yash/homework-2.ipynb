{
 "cells": [
  {
   "cell_type": "code",
   "execution_count": 11,
   "metadata": {},
   "outputs": [],
   "source": [
    "# import libraries:\n",
    "import numpy as np\n",
    "from scipy import stats\n",
    "import matplotlib.pyplot as plt"
   ]
  },
  {
   "cell_type": "markdown",
   "metadata": {},
   "source": [
    "Examples of Normal Distribution"
   ]
  },
  {
   "cell_type": "code",
   "execution_count": 60,
   "metadata": {},
   "outputs": [
    {
     "name": "stdout",
     "output_type": "stream",
     "text": [
      "Mean = 259.30539149616334\n"
     ]
    }
   ],
   "source": [
    "# 1\n",
    "conf_interval = 0.98\n",
    "sd = 4\n",
    "alpha = (1-conf_interval)/2\n",
    "# calculate z score\n",
    "z = stats.norm.ppf(alpha)\n",
    "mean = 250 - z*sd\n",
    "print(f'Mean = {mean}')\n"
   ]
  },
  {
   "cell_type": "code",
   "execution_count": 64,
   "metadata": {},
   "outputs": [
    {
     "name": "stdout",
     "output_type": "stream",
     "text": [
      "The probability is 30.2%.\n"
     ]
    }
   ],
   "source": [
    "# 2\n",
    "from statistics import NormalDist\n",
    "probability = NormalDist(175, 6).overlap(NormalDist(168, 2))\n",
    "print(f'The probability is {probability*100:0.1f}%.')"
   ]
  },
  {
   "cell_type": "markdown",
   "metadata": {},
   "source": [
    "Normal Distribution"
   ]
  },
  {
   "cell_type": "code",
   "execution_count": 5,
   "metadata": {},
   "outputs": [],
   "source": [
    "# 1\n",
    "nd = stats.norm(5,3)"
   ]
  },
  {
   "cell_type": "code",
   "execution_count": 7,
   "metadata": {},
   "outputs": [],
   "source": [
    "# 2\n",
    "data = nd.rvs(1000)"
   ]
  },
  {
   "cell_type": "code",
   "execution_count": 9,
   "metadata": {},
   "outputs": [
    {
     "name": "stdout",
     "output_type": "stream",
     "text": [
      "Standard Error = 0.09336309958058626\n"
     ]
    }
   ],
   "source": [
    "# 3\n",
    "standard_error = np.std(data, ddof=1)/np.sqrt(1000)\n",
    "print(f'Standard Error = {standard_error}')"
   ]
  },
  {
   "cell_type": "code",
   "execution_count": 12,
   "metadata": {},
   "outputs": [
    {
     "data": {
      "image/png": "[encoded data removed]",
      "text/plain": [
       "<Figure size 640x480 with 1 Axes>"
      ]
     },
     "metadata": {},
     "output_type": "display_data"
    }
   ],
   "source": [
    "# 4\n",
    "plt.hist(data)\n",
    "plt.show()"
   ]
  },
  {
   "cell_type": "code",
   "execution_count": 13,
   "metadata": {},
   "outputs": [
    {
     "name": "stdout",
     "output_type": "stream",
     "text": [
      "95% Confidence interval: -0.879891953620163 - 10.879891953620163\n"
     ]
    }
   ],
   "source": [
    "# 5\n",
    "print(f'95% Confidence interval: {nd.ppf(0.025)} - {nd.ppf(0.975)}')"
   ]
  },
  {
   "cell_type": "code",
   "execution_count": 17,
   "metadata": {},
   "outputs": [
    {
     "name": "stdout",
     "output_type": "stream",
     "text": [
      "The required SD to fulfill both requirements = 0.3039027127266671.\n"
     ]
    }
   ],
   "source": [
    "# 6\n",
    "nd = stats.norm()\n",
    "numSDs = nd.isf(0.0005)\n",
    "tolerance = 1/numSDs\n",
    "print(f'The required SD to fulfill both requirements = {tolerance}.')"
   ]
  },
  {
   "cell_type": "markdown",
   "metadata": {},
   "source": [
    "Continuous Distributions"
   ]
  },
  {
   "cell_type": "code",
   "execution_count": 19,
   "metadata": {},
   "outputs": [
    {
     "name": "stdout",
     "output_type": "stream",
     "text": [
      "Mean = 68.0\n",
      "99% Confidence Interval = 17.162056903012893\n"
     ]
    }
   ],
   "source": [
    "# 1\n",
    "# create the list of data\n",
    "data = [52,\n",
    "        70,\n",
    "        65,\n",
    "        85,\n",
    "        62,\n",
    "        83,\n",
    "        59]\n",
    "\n",
    "# generate the t-distribution\n",
    "td = stats.t(len(data)-1)\n",
    "alpha = 0.01\n",
    "\n",
    "# mean\n",
    "print(f'Mean = {np.mean(data)}')\n",
    "\n",
    "# 99% confidence interval\n",
    "tval = abs(td.ppf(alpha/2)*stats.sem(data))\n",
    "print(f'99% Confidence Interval = {tval}')"
   ]
  },
  {
   "cell_type": "code",
   "execution_count": 21,
   "metadata": {},
   "outputs": [
    {
     "data": {
      "image/png": "[encoded data removed]",
      "text/plain": [
       "<Figure size 640x480 with 1 Axes>"
      ]
     },
     "metadata": {},
     "output_type": "display_data"
    }
   ],
   "source": [
    "# 2\n",
    "# generate normal distribution\n",
    "nd = stats.norm()\n",
    "\n",
    "# take 3 samples of 1000 data points from the distribution\n",
    "sample_size = 1000\n",
    "data1 = nd.rvs(sample_size)\n",
    "data2 = nd.rvs(sample_size)\n",
    "data3 = nd.rvs(sample_size)\n",
    "\n",
    "# histogram of the sum of the squares \n",
    "plt.hist(data1**2+data2**2 +data3**2, 100)\n",
    "plt.show()"
   ]
  },
  {
   "cell_type": "code",
   "execution_count": 31,
   "metadata": {},
   "outputs": [
    {
     "name": "stdout",
     "output_type": "stream",
     "text": [
      "Since the chance of the standard deviation being different than 2 is 98.23%, the standard deviation is probably different than 2.\n"
     ]
    }
   ],
   "source": [
    "# 3\n",
    "data = [11, 10, 9, 10, 10, 11, 11, 10, 12, 9, 7, 9, 11, 10, 11]\n",
    "# degrees of freedom\n",
    "df = len(data) - 1\n",
    "# do chi2 test\n",
    "sigma=2\n",
    "chi2Dist = stats.chi2(df)\n",
    "statistic= sum(((data-np.mean(data))/sigma)**2)\n",
    "chance = chi2Dist.sf(statistic)\n",
    "print(f'Since the chance of the standard deviation being different than 2 is {chance*100:0.2f}%, the standard deviation is probably different than 2.')"
   ]
  },
  {
   "cell_type": "code",
   "execution_count": 37,
   "metadata": {},
   "outputs": [
    {
     "name": "stdout",
     "output_type": "stream",
     "text": [
      "The p-value of the F-distribution = 0.537640478466751.\n",
      "There is no significant difference between the two distributions.\n"
     ]
    }
   ],
   "source": [
    "# 4\n",
    "apples1 = [110, 121, 143]\n",
    "apples2 = [88, 93, 105, 124]\n",
    "# calculate fval and pval using F distibution\n",
    "fval = np.std(apples1, ddof=1)/np.std(apples2, ddof=1)\n",
    "fd = stats.distributions.f(len(apples1),len(apples2))\n",
    "pval = fd.cdf(fval)\n",
    "print(f'The p-value of the F-distribution = {pval}.')\n",
    "if (pval<0.025) or (pval>0.975):\n",
    "    print('There is a significant difference between the two distributions.')\n",
    "else:\n",
    "    print('There is no significant difference between the two distributions.')"
   ]
  },
  {
   "cell_type": "code",
   "execution_count": 58,
   "metadata": {},
   "outputs": [
    {
     "name": "stdout",
     "output_type": "stream",
     "text": [
      "Lifespan = 1 years -> Probability = 23.88%\n",
      "Lifespan = 2 years -> Probability = 17.11%\n",
      "Lifespan = 3 years -> Probability = 12.26%\n",
      "Lifespan = 4 years -> Probability = 8.79%\n",
      "Lifespan = 5 years -> Probability = 6.30%\n"
     ]
    }
   ],
   "source": [
    "# 5\n",
    "x_array = [i + 1 for i in range(5)]\n",
    "exp_d = stats.expon.pdf(scale=3, x=x_array)\n",
    "for num, solution in zip(x_array, exp_d):\n",
    "    print(f'Lifespan = {num} years ->', f'Probability = {solution*100:0.2f}%')"
   ]
  },
  {
   "cell_type": "markdown",
   "metadata": {},
   "source": [
    "Discrete Distributions"
   ]
  },
  {
   "cell_type": "code",
   "execution_count": 38,
   "metadata": {},
   "outputs": [
    {
     "name": "stdout",
     "output_type": "stream",
     "text": [
      "The chance of finding 3 students with blue eyes is  9.0%.\n",
      "The chance of finding 6 students with blue eyes is 20.1%.\n",
      "The chance of finding 10 students with blue eyes is  1.4%.\n"
     ]
    }
   ],
   "source": [
    "# 1\n",
    "# Generate the distribution\n",
    "p = 0.37\n",
    "n = 15\n",
    "bd = stats.binom(n, p)\n",
    "# calculate probability mass function\n",
    "x = [3,6,10]\n",
    "y = bd.pmf(x)\n",
    "\n",
    "for num, solution in zip(x,y):\n",
    "    print(f'The chance of finding {num} students with blue eyes is {solution*100:4.1f}%.')"
   ]
  },
  {
   "cell_type": "code",
   "execution_count": 40,
   "metadata": {},
   "outputs": [
    {
     "name": "stdout",
     "output_type": "stream",
     "text": [
      "The chance of haveing 0 fatal accidents in one week is 30.5%.\n",
      "The chance of haveing 2 fatal accidents in one week is 21.5%.\n",
      "The chance of haveing 5 fatal accidents in one week is  0.6%.\n"
     ]
    }
   ],
   "source": [
    "#2\n",
    "# Generate the distribution.\n",
    "prob = 62./(365./7)\n",
    "pd = stats.poisson(prob)\n",
    "# select the necessary parameters\n",
    "x = [0,2,5]\n",
    "y = pd.pmf(x)*100\n",
    "for num, solution in zip(x,y):\n",
    "    print(f'The chance of haveing {num} fatal accidents in one week is {solution:4.1f}%.')\n"
   ]
  }
 ],
 "metadata": {
  "kernelspec": {
   "display_name": "Python 3.10.5 64-bit",
   "language": "python",
   "name": "python3"
  },
  "language_info": {
   "codemirror_mode": {
    "name": "ipython",
    "version": 3
   },
   "file_extension": ".py",
   "mimetype": "text/x-python",
   "name": "python",
   "nbconvert_exporter": "python",
   "pygments_lexer": "ipython3",
   "version": "3.10.5"
  },
  "orig_nbformat": 4,
  "vscode": {
   "interpreter": {
    "hash": "e480c6674d5508fc8d9591b96da2b4549be3a1df6840d924f135492fd8e36576"
   }
  }
 },
 "nbformat": 4,
 "nbformat_minor": 2
}
