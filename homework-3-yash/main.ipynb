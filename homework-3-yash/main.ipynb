{
 "cells": [
  {
   "cell_type": "markdown",
   "metadata": {},
   "source": [
    "# Homework 3"
   ]
  },
  {
   "cell_type": "code",
   "execution_count": 63,
   "metadata": {},
   "outputs": [],
   "source": [
    "# import libraries:\n",
    "import numpy as np\n",
    "from scipy import stats\n",
    "import matplotlib.pyplot as plt\n",
    "import pandas as pd\n",
    "# Other required packages\n",
    "# Modules for data-analysis\n",
    "from statsmodels.formula.api import ols\n",
    "from statsmodels.stats.anova import anova_lm\n",
    "from statsmodels.stats import multicomp\n",
    "import xlrd"
   ]
  },
  {
   "cell_type": "markdown",
   "metadata": {},
   "source": [
    "##### The daily energy intake from 11 healthy women is [5260., 5470., 5640., 6180., 6390., 6515., 6805., 7515., 7515., 8230., 8770.] kJ. Is this value significantly different from the recommended value of 7725?"
   ]
  },
  {
   "cell_type": "code",
   "execution_count": 9,
   "metadata": {},
   "outputs": [
    {
     "name": "stdout",
     "output_type": "stream",
     "text": [
      "p_test = 0.018137235176105812\n"
     ]
    }
   ],
   "source": [
    "data = [5260., 5470., 5640., 6180., 6390., 6515., 6805., 7515., 7515., 8230., 8770.]\n",
    "check_value = 7725\n",
    "\n",
    "t, pVal = stats.ttest_1samp(data, check_value)\n",
    "print(\"p_test =\", pVal)\n"
   ]
  },
  {
   "cell_type": "markdown",
   "metadata": {},
   "source": [
    "Yes, this value is significantly different as the p value is equal to 0.018."
   ]
  },
  {
   "cell_type": "markdown",
   "metadata": {},
   "source": [
    "##### In a clinic, 15 lazy patients weigh [76, 101, 66, 72, 88, 82, 79, 73, 76, 85, 75, 64, 76, 81, 86] kg, and 15 sporty patients weigh [ 64, 65, 56, 62, 59, 76, 66, 82, 91, 57, 92, 80, 82, 67, 54] kg."
   ]
  },
  {
   "cell_type": "markdown",
   "metadata": {},
   "source": [
    "**Are the lazy patients significantly heavier?**"
   ]
  },
  {
   "cell_type": "code",
   "execution_count": 27,
   "metadata": {},
   "outputs": [
    {
     "name": "stdout",
     "output_type": "stream",
     "text": [
      "p_test = 0.04516066585880743\n"
     ]
    }
   ],
   "source": [
    "# load data\n",
    "lazy = [76, 101, 66, 72, 88, 82, 79, 73, 76, 85, 75, 64, 76, 81, 86]\n",
    "sporty = [64, 65, 56, 62, 59, 76, 66, 82, 91, 57, 92, 80, 82, 67, 54]\n",
    "\n",
    "# run t-test\n",
    "t_statistic, pVal = stats.ttest_ind(lazy, sporty)\n",
    "print(\"p_test =\", pVal)"
   ]
  },
  {
   "cell_type": "markdown",
   "metadata": {},
   "source": [
    "Yes, the lazy patients are significantly heavier from the p value of 0.045."
   ]
  },
  {
   "cell_type": "markdown",
   "metadata": {},
   "source": [
    "**Are the two data sets normally distributed?**\n",
    "\n",
    "Yes, the two data sets are normally distributed."
   ]
  },
  {
   "cell_type": "code",
   "execution_count": 61,
   "metadata": {},
   "outputs": [
    {
     "name": "stdout",
     "output_type": "stream",
     "text": [
      "Dataset # 1 is normally distributed\n"
     ]
    }
   ],
   "source": [
    "for ii, data in enumerate((lazy, sporty)):\n",
    "    (_, pval) = stats.normaltest(data)\n",
    "if pval > 0.05:\n",
    "    print('Dataset # {0} is normally distributed'.format(ii))"
   ]
  },
  {
   "cell_type": "markdown",
   "metadata": {},
   "source": [
    "**Are the lazy patients still heavier, if you check with the Mann–Whitney test?**"
   ]
  },
  {
   "cell_type": "code",
   "execution_count": 40,
   "metadata": {},
   "outputs": [
    {
     "name": "stdout",
     "output_type": "stream",
     "text": [
      "p_test = 0.07740194475805182\n"
     ]
    }
   ],
   "source": [
    "u, p_value = stats.mannwhitneyu(lazy, sporty, alternative='two-sided')\n",
    "print(\"p_test =\", p_value)"
   ]
  },
  {
   "cell_type": "markdown",
   "metadata": {},
   "source": [
    "Since p > 0.05, the lazy patients aren't heavier with the Mann-Whitney test."
   ]
  },
  {
   "cell_type": "markdown",
   "metadata": {},
   "source": [
    "##### Perform an ANOVA. Are the three groups different?"
   ]
  },
  {
   "cell_type": "code",
   "execution_count": 46,
   "metadata": {},
   "outputs": [
    {
     "data": {
      "text/html": [
       "<div>\n",
       "<style scoped>\n",
       "    .dataframe tbody tr th:only-of-type {\n",
       "        vertical-align: middle;\n",
       "    }\n",
       "\n",
       "    .dataframe tbody tr th {\n",
       "        vertical-align: top;\n",
       "    }\n",
       "\n",
       "    .dataframe thead th {\n",
       "        text-align: right;\n",
       "    }\n",
       "</style>\n",
       "<table border=\"1\" class=\"dataframe\">\n",
       "  <thead>\n",
       "    <tr style=\"text-align: right;\">\n",
       "      <th></th>\n",
       "      <th>control</th>\n",
       "      <th>treatmentA</th>\n",
       "      <th>treatmentB</th>\n",
       "    </tr>\n",
       "  </thead>\n",
       "  <tbody>\n",
       "    <tr>\n",
       "      <th>0</th>\n",
       "      <td>4.17</td>\n",
       "      <td>4.81</td>\n",
       "      <td>6.31</td>\n",
       "    </tr>\n",
       "    <tr>\n",
       "      <th>1</th>\n",
       "      <td>5.58</td>\n",
       "      <td>4.17</td>\n",
       "      <td>5.12</td>\n",
       "    </tr>\n",
       "    <tr>\n",
       "      <th>2</th>\n",
       "      <td>5.18</td>\n",
       "      <td>4.41</td>\n",
       "      <td>5.54</td>\n",
       "    </tr>\n",
       "    <tr>\n",
       "      <th>3</th>\n",
       "      <td>6.11</td>\n",
       "      <td>3.59</td>\n",
       "      <td>5.50</td>\n",
       "    </tr>\n",
       "    <tr>\n",
       "      <th>4</th>\n",
       "      <td>4.50</td>\n",
       "      <td>5.87</td>\n",
       "      <td>5.37</td>\n",
       "    </tr>\n",
       "    <tr>\n",
       "      <th>5</th>\n",
       "      <td>4.61</td>\n",
       "      <td>3.83</td>\n",
       "      <td>5.29</td>\n",
       "    </tr>\n",
       "    <tr>\n",
       "      <th>6</th>\n",
       "      <td>5.17</td>\n",
       "      <td>6.03</td>\n",
       "      <td>4.92</td>\n",
       "    </tr>\n",
       "    <tr>\n",
       "      <th>7</th>\n",
       "      <td>4.53</td>\n",
       "      <td>4.89</td>\n",
       "      <td>6.15</td>\n",
       "    </tr>\n",
       "    <tr>\n",
       "      <th>8</th>\n",
       "      <td>5.33</td>\n",
       "      <td>4.32</td>\n",
       "      <td>5.80</td>\n",
       "    </tr>\n",
       "    <tr>\n",
       "      <th>9</th>\n",
       "      <td>5.14</td>\n",
       "      <td>4.69</td>\n",
       "      <td>5.26</td>\n",
       "    </tr>\n",
       "  </tbody>\n",
       "</table>\n",
       "</div>"
      ],
      "text/plain": [
       "   control  treatmentA  treatmentB\n",
       "0     4.17        4.81        6.31\n",
       "1     5.58        4.17        5.12\n",
       "2     5.18        4.41        5.54\n",
       "3     6.11        3.59        5.50\n",
       "4     4.50        5.87        5.37\n",
       "5     4.61        3.83        5.29\n",
       "6     5.17        6.03        4.92\n",
       "7     4.53        4.89        6.15\n",
       "8     5.33        4.32        5.80\n",
       "9     5.14        4.69        5.26"
      ]
     },
     "execution_count": 46,
     "metadata": {},
     "output_type": "execute_result"
    }
   ],
   "source": [
    "df = pd.read_excel(\"Table 6.6 Plant experiment.xls\", skiprows=2, usecols=[0, 1, 2]).dropna()\n",
    "df"
   ]
  },
  {
   "cell_type": "code",
   "execution_count": 48,
   "metadata": {},
   "outputs": [
    {
     "name": "stdout",
     "output_type": "stream",
     "text": [
      "p_test = 0.015909958325622895\n"
     ]
    }
   ],
   "source": [
    "F_statistic, pVal = stats.f_oneway(df['control'], df['treatmentA'], df['treatmentB'])\n",
    "print(\"p_test =\", pVal)"
   ]
  },
  {
   "cell_type": "markdown",
   "metadata": {},
   "source": [
    "As p value < 0.05, the three groups are different."
   ]
  },
  {
   "cell_type": "markdown",
   "metadata": {},
   "source": [
    "#### Using the Tukey test, which of the pairs are different?"
   ]
  },
  {
   "cell_type": "code",
   "execution_count": 72,
   "metadata": {},
   "outputs": [],
   "source": [
    "# function to do tukey tests\n",
    "def compare_many(data):\n",
    "    '''Multiple comparisons: Which one is different? '''\n",
    "    print('\\n MultComp:--------------------------------------')\n",
    "    mc = multicomp.MultiComparison(data['weight'], data['group'])\n",
    "    print(mc.tukeyhsd().summary())\n",
    "    # Show the group names\n",
    "    print(mc.groupsunique)\n",
    "    # Generate a print ----------------\n",
    "    res2 = mc.tukeyhsd() # Get the data\n",
    "    xvals = np.arange(3)\n",
    "\n",
    "def get_ANOVA_data():\n",
    "    inFile = 'Table 6.6 Plant experiment.xls' \n",
    "    book = xlrd.open_workbook(inFile)\n",
    "    sheet = book.sheet_by_index(0)\n",
    "    treatment = sheet.col_values(4)\n",
    "    weight = sheet.col_values(5)\n",
    "    data = pd.DataFrame({'group':treatment[3:], 'weight':\n",
    "    weight[3:]})\n",
    "    return data"
   ]
  },
  {
   "cell_type": "code",
   "execution_count": 73,
   "metadata": {},
   "outputs": [
    {
     "name": "stdout",
     "output_type": "stream",
     "text": [
      "\n",
      " MultComp:--------------------------------------\n",
      "    Multiple Comparison of Means - Tukey HSD, FWER=0.05    \n",
      "===========================================================\n",
      "  group1     group2   meandiff p-adj   lower  upper  reject\n",
      "-----------------------------------------------------------\n",
      "   Control TreatmentA   -0.371 0.3909 -1.0622 0.3202  False\n",
      "   Control TreatmentB    0.494  0.198 -0.1972 1.1852  False\n",
      "TreatmentA TreatmentB    0.865  0.012  0.1738 1.5562   True\n",
      "-----------------------------------------------------------\n",
      "['Control' 'TreatmentA' 'TreatmentB']\n"
     ]
    }
   ],
   "source": [
    "# do pairwise tests\n",
    "data = get_ANOVA_data()\n",
    "compare_many(data)"
   ]
  },
  {
   "cell_type": "markdown",
   "metadata": {},
   "source": [
    "From the Tukey test above, we can see that Treatment A and Treatment B are different from the Control."
   ]
  },
  {
   "cell_type": "markdown",
   "metadata": {},
   "source": [
    "#### Would a nonparametric comparison lead to a different result?"
   ]
  },
  {
   "cell_type": "code",
   "execution_count": 75,
   "metadata": {},
   "outputs": [],
   "source": [
    "def KruskalWallis(data):\n",
    "    g_a = data['weight'][data['group']=='TreatmentA']\n",
    "    g_b = data['weight'][data['group']=='TreatmentB']\n",
    "    g_c = data['weight'][data['group']=='Control']\n",
    "\n",
    "    h, p = stats.kruskal(g_c, g_a, g_b)\n",
    "    print('Result from Kruskal-Wallis test: p = {0}'.format(p))"
   ]
  },
  {
   "cell_type": "code",
   "execution_count": 76,
   "metadata": {},
   "outputs": [
    {
     "name": "stdout",
     "output_type": "stream",
     "text": [
      "Result from Kruskal-Wallis test: p = 0.018423755731471963\n"
     ]
    }
   ],
   "source": [
    "# do kruskal wallis tests\n",
    "KruskalWallis(data)"
   ]
  },
  {
   "cell_type": "markdown",
   "metadata": {},
   "source": [
    "Since p < 0.05, even this test says that the data is different from each other. "
   ]
  }
 ],
 "metadata": {
  "kernelspec": {
   "display_name": "Python 3.10.5 64-bit",
   "language": "python",
   "name": "python3"
  },
  "language_info": {
   "codemirror_mode": {
    "name": "ipython",
    "version": 3
   },
   "file_extension": ".py",
   "mimetype": "text/x-python",
   "name": "python",
   "nbconvert_exporter": "python",
   "pygments_lexer": "ipython3",
   "version": "3.10.5"
  },
  "orig_nbformat": 4,
  "vscode": {
   "interpreter": {
    "hash": "e480c6674d5508fc8d9591b96da2b4549be3a1df6840d924f135492fd8e36576"
   }
  }
 },
 "nbformat": 4,
 "nbformat_minor": 2
}
