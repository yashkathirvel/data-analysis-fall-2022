{
 "cells": [
  {
   "cell_type": "markdown",
   "metadata": {},
   "source": [
    "### Homework 4"
   ]
  },
  {
   "cell_type": "code",
   "execution_count": 1,
   "metadata": {},
   "outputs": [],
   "source": [
    "# Import standard packages\n",
    "import numpy as np\n",
    "import scipy.stats as stats\n",
    "import pandas as pd\n",
    "\n",
    "# additional packages\n",
    "from statsmodels.formula.api import ols\n",
    "from statsmodels.stats.anova import anova_lm\n",
    "from typing import Tuple"
   ]
  },
  {
   "cell_type": "markdown",
   "metadata": {},
   "source": [
    "##### 1. Show the equivalence of t-test and F-test for comparing two groups"
   ]
  },
  {
   "cell_type": "code",
   "execution_count": 2,
   "metadata": {},
   "outputs": [
    {
     "data": {
      "text/html": [
       "<div>\n",
       "<style scoped>\n",
       "    .dataframe tbody tr th:only-of-type {\n",
       "        vertical-align: middle;\n",
       "    }\n",
       "\n",
       "    .dataframe tbody tr th {\n",
       "        vertical-align: top;\n",
       "    }\n",
       "\n",
       "    .dataframe thead th {\n",
       "        text-align: right;\n",
       "    }\n",
       "</style>\n",
       "<table border=\"1\" class=\"dataframe\">\n",
       "  <thead>\n",
       "    <tr style=\"text-align: right;\">\n",
       "      <th></th>\n",
       "      <th>family</th>\n",
       "      <th>father</th>\n",
       "      <th>mother</th>\n",
       "      <th>sex</th>\n",
       "      <th>height</th>\n",
       "      <th>nkids</th>\n",
       "    </tr>\n",
       "  </thead>\n",
       "  <tbody>\n",
       "    <tr>\n",
       "      <th>0</th>\n",
       "      <td>1</td>\n",
       "      <td>78.5</td>\n",
       "      <td>67.0</td>\n",
       "      <td>M</td>\n",
       "      <td>73.2</td>\n",
       "      <td>4</td>\n",
       "    </tr>\n",
       "    <tr>\n",
       "      <th>1</th>\n",
       "      <td>1</td>\n",
       "      <td>78.5</td>\n",
       "      <td>67.0</td>\n",
       "      <td>F</td>\n",
       "      <td>69.2</td>\n",
       "      <td>4</td>\n",
       "    </tr>\n",
       "    <tr>\n",
       "      <th>2</th>\n",
       "      <td>1</td>\n",
       "      <td>78.5</td>\n",
       "      <td>67.0</td>\n",
       "      <td>F</td>\n",
       "      <td>69.0</td>\n",
       "      <td>4</td>\n",
       "    </tr>\n",
       "    <tr>\n",
       "      <th>3</th>\n",
       "      <td>1</td>\n",
       "      <td>78.5</td>\n",
       "      <td>67.0</td>\n",
       "      <td>F</td>\n",
       "      <td>69.0</td>\n",
       "      <td>4</td>\n",
       "    </tr>\n",
       "    <tr>\n",
       "      <th>4</th>\n",
       "      <td>2</td>\n",
       "      <td>75.5</td>\n",
       "      <td>66.5</td>\n",
       "      <td>M</td>\n",
       "      <td>73.5</td>\n",
       "      <td>4</td>\n",
       "    </tr>\n",
       "  </tbody>\n",
       "</table>\n",
       "</div>"
      ],
      "text/plain": [
       "  family  father  mother sex  height  nkids\n",
       "0      1    78.5    67.0   M    73.2      4\n",
       "1      1    78.5    67.0   F    69.2      4\n",
       "2      1    78.5    67.0   F    69.0      4\n",
       "3      1    78.5    67.0   F    69.0      4\n",
       "4      2    75.5    66.5   M    73.5      4"
      ]
     },
     "execution_count": 2,
     "metadata": {},
     "output_type": "execute_result"
    }
   ],
   "source": [
    "# read data\n",
    "data = pd.read_csv('galton.csv')\n",
    "data.head()"
   ]
  },
  {
   "cell_type": "code",
   "execution_count": 15,
   "metadata": {},
   "outputs": [
    {
     "name": "stdout",
     "output_type": "stream",
     "text": [
      "1.443197963131157e-302\n",
      "From the t-test we get t^2 = 2083.481 and from the F-test F = 2083.481.\n",
      "Therefore, T^2 == F.\n"
     ]
    }
   ],
   "source": [
    "# calclulate F and t values\n",
    "F_val, p_val = stats.f_oneway(data['father'], data['mother'])\n",
    "t_val, p_val_t = stats.ttest_ind(data['father'], data['mother'])\n",
    "\n",
    "# print results\n",
    "print(f'From the t-test we get t^2 = {t_val**2:5.3f} and from the F-test F = {F_val:5.3f}.')\n",
    "print('Therefore, T^2 == F.')"
   ]
  },
  {
   "cell_type": "code",
   "execution_count": 13,
   "metadata": {},
   "outputs": [
    {
     "name": "stdout",
     "output_type": "stream",
     "text": [
      "p-value from t-test: 0.000 and from F-test: 0.000.\n"
     ]
    }
   ],
   "source": [
    "# compare p-values\n",
    "print(f'p-value from t-test: {p_val_t:5.3f} and from F-test: {p_val:5.3f}.')"
   ]
  },
  {
   "cell_type": "markdown",
   "metadata": {},
   "source": [
    "##### 2. Calculate Sums of squares (SS) and degrees of freedom (DF)."
   ]
  },
  {
   "cell_type": "markdown",
   "metadata": {},
   "source": [
    "Sum of Squares (SS)"
   ]
  },
  {
   "cell_type": "code",
   "execution_count": 60,
   "metadata": {},
   "outputs": [
    {
     "name": "stdout",
     "output_type": "stream",
     "text": [
      "Total sum of squares: 30.000\n",
      "Treatment sum of squares: 24.000\n",
      "Error sum of squares: 6.000\n",
      "Total sum of squares == Treatment sum of squares + Error sum of squares: True\n"
     ]
    }
   ],
   "source": [
    "# initialize data\n",
    "group_1 = [3, 2, 1]\n",
    "group_2 = [5, 3, 4]\n",
    "group_3 = [5, 6, 7]\n",
    "\n",
    "# format data\n",
    "df = pd.DataFrame({'1': group_1, '2': group_2, '3': group_3})\n",
    "df = df.stack().reset_index().drop(labels='level_0', axis=1).rename(columns={'level_1': 'group', 0: 'value'})\n",
    "\n",
    "groups = df.groupby('group')\n",
    "ss_total = np.sum((df['value']-df['value'].mean())**2)\n",
    "    \n",
    "# Calculate ss_treatment and  ss_error\n",
    "(ss_treatments, ss_error) = (0, 0)\n",
    "for val, group in groups:\n",
    "    ss_error += sum((group['value'] - group['value'].mean())**2)\n",
    "    ss_treatments += len(group) * \\\n",
    "            (group['value'].mean() - df['value'].mean())**2\n",
    "\n",
    "# show that ss_total == ss_treatments + ss_error\n",
    "print(f'Total sum of squares: {ss_total:5.3f}')\n",
    "print(f'Treatment sum of squares: {ss_treatments:5.3f}')\n",
    "print(f'Error sum of squares: {ss_error:5.3f}')\n",
    "\n",
    "is_true = ss_total == ss_treatments + ss_error\n",
    "print(f'Total sum of squares == Treatment sum of squares + Error sum of squares: {is_true}')"
   ]
  },
  {
   "cell_type": "markdown",
   "metadata": {},
   "source": [
    "Degrees of Freedom (DOF)"
   ]
  },
  {
   "cell_type": "code",
   "execution_count": 66,
   "metadata": {},
   "outputs": [
    {
     "name": "stdout",
     "output_type": "stream",
     "text": [
      "Degrees of freedom total: 8\n",
      "Degrees of freedom within: 6\n",
      "Degrees of freedom between: 2\n",
      "Degrees of freedom total == Degrees of freedom within + Degrees of freedom between: True\n"
     ]
    }
   ],
   "source": [
    "m = 3 # number of groups\n",
    "n = 3 # number of observations per group\n",
    "\n",
    "dof_total = m*n - 1\n",
    "dof_within = m*(n-1)\n",
    "dof_between = n - 1\n",
    "\n",
    "# show that dof_total == dof_within + dof_between\n",
    "print(f'Degrees of freedom total: {dof_total}')\n",
    "print(f'Degrees of freedom within: {dof_within}')\n",
    "print(f'Degrees of freedom between: {dof_between}') \n",
    "print(f'Degrees of freedom total == Degrees of freedom within + Degrees of freedom between: {dof_total == dof_within + dof_between}')"
   ]
  }
 ],
 "metadata": {
  "kernelspec": {
   "display_name": "Python 3.10.5 64-bit",
   "language": "python",
   "name": "python3"
  },
  "language_info": {
   "codemirror_mode": {
    "name": "ipython",
    "version": 3
   },
   "file_extension": ".py",
   "mimetype": "text/x-python",
   "name": "python",
   "nbconvert_exporter": "python",
   "pygments_lexer": "ipython3",
   "version": "3.10.5"
  },
  "orig_nbformat": 4,
  "vscode": {
   "interpreter": {
    "hash": "e480c6674d5508fc8d9591b96da2b4549be3a1df6840d924f135492fd8e36576"
   }
  }
 },
 "nbformat": 4,
 "nbformat_minor": 2
}
