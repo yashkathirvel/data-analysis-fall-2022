{
 "cells": [
  {
   "cell_type": "markdown",
   "metadata": {},
   "source": [
    "### Homework 5"
   ]
  },
  {
   "cell_type": "markdown",
   "metadata": {},
   "source": [
    "##### 1. Power Analysis: sample size"
   ]
  },
  {
   "cell_type": "markdown",
   "metadata": {},
   "source": [
    "We want to compare the weights of two groups of mice on different diets.  The number of mice in each group is the same, and the standard deviation of weights is the same for both groups.\n",
    "\n",
    "To meet the requirements for a test power at 0.8, and a significance level (alpha = 0.05). What is the minimal number of mice in each group we need to test when the effect size is 0.2?"
   ]
  },
  {
   "cell_type": "code",
   "execution_count": 25,
   "metadata": {},
   "outputs": [
    {
     "name": "stdout",
     "output_type": "stream",
     "text": [
      "The minimal number of mice in each group we need to test is 393.\n"
     ]
    }
   ],
   "source": [
    "# import library\n",
    "from statsmodels.stats import power\n",
    "\n",
    "nobs = power.tt_ind_solve_power(effect_size=0.2, \n",
    "                                alpha=0.05,\n",
    "                                power = 0.8)\n",
    "\n",
    "print(f'The minimal number of mice in each group we need to test is {nobs:0.0f}.')"
   ]
  },
  {
   "cell_type": "markdown",
   "metadata": {},
   "source": [
    "##### 2. Hypothesis tests"
   ]
  },
  {
   "cell_type": "markdown",
   "metadata": {},
   "source": [
    "We have a null hypothesis (H0): the mean number of years Americans work before retiring is 34. If we conclude that the mean is not 34 years, when it really is 34 years, what type of error is this? What is the probability of this type of error? If we conclude that the mean is 34 years, when in fact it really is not 34 years, what type of error is this? What is the probability of this type of error? (Hint: Lecture 6, slide 7. Note: you just need to write the answers to these questions, no need for any calculations here.)"
   ]
  },
  {
   "cell_type": "markdown",
   "metadata": {},
   "source": [
    "(i) False positive error (Type 1). The probability of this error is alpha.\n",
    "\n",
    "(ii) False negative error (Type 2). The probability of this error is beta."
   ]
  },
  {
   "cell_type": "markdown",
   "metadata": {},
   "source": [
    "The mean number of sick days an employee takes per year is believed to be about ten. Members of a personnel department do not believe this figure. They randomly survey eight employees. The number of sick days they took for the past year are as follows: 12; 4; 15; 3; 11; 8; 6; 8. Should the personnel team believe that the mean number is ten?"
   ]
  },
  {
   "cell_type": "code",
   "execution_count": 30,
   "metadata": {},
   "outputs": [],
   "source": [
    "# import libraries\n",
    "import numpy as np\n",
    "from scipy import stats\n",
    "import seaborn as sns\n"
   ]
  },
  {
   "cell_type": "code",
   "execution_count": 29,
   "metadata": {},
   "outputs": [
    {
     "name": "stdout",
     "output_type": "stream",
     "text": [
      "The mean of the data is 8.375.\n"
     ]
    }
   ],
   "source": [
    "# load data\n",
    "data = np.array([12, 4, 15, 3, 11, 8, 6, 8])\n",
    "print(f'The mean of the data is {np.mean(data)}.')\n"
   ]
  },
  {
   "cell_type": "code",
   "execution_count": 32,
   "metadata": {},
   "outputs": [
    {
     "name": "stderr",
     "output_type": "stream",
     "text": [
      "c:\\Users\\yashw\\AppData\\Local\\Programs\\Python\\Python310\\lib\\site-packages\\scipy\\stats\\_stats_py.py:1772: UserWarning: kurtosistest only valid for n>=20 ... continuing anyway, n=8\n",
      "  warnings.warn(\"kurtosistest only valid for n>=20 ... continuing \"\n"
     ]
    },
    {
     "data": {
      "text/plain": [
       "NormaltestResult(statistic=0.36736724277354826, pvalue=0.8321990521634555)"
      ]
     },
     "execution_count": 32,
     "metadata": {},
     "output_type": "execute_result"
    }
   ],
   "source": [
    "# perform normality test \n",
    "stats.normaltest(data)"
   ]
  },
  {
   "cell_type": "code",
   "execution_count": 36,
   "metadata": {},
   "outputs": [
    {
     "name": "stdout",
     "output_type": "stream",
     "text": [
      "The p-value is 0.30. Since this is greater than 0.05, we cannot reject the null hypothesis. The personnel team do not have strong evidence to refute that the mean sick days is 10.\n"
     ]
    }
   ],
   "source": [
    "# calculate p-value\n",
    "t_value = (10 - np.mean(data))/stats.sem(data)\n",
    "t_d = stats.t(len(data)-1)\n",
    "p = 2 * t_d.sf(t_value)\n",
    "\n",
    "\n",
    "# print p-value\n",
    "print(f'The p-value is {p:0.2f}. Since this is greater than 0.05, we cannot reject the null hypothesis. The personnel team do not have strong evidence to refute that the mean sick days is 10.')"
   ]
  }
 ],
 "metadata": {
  "kernelspec": {
   "display_name": "Python 3.10.5 64-bit",
   "language": "python",
   "name": "python3"
  },
  "language_info": {
   "codemirror_mode": {
    "name": "ipython",
    "version": 3
   },
   "file_extension": ".py",
   "mimetype": "text/x-python",
   "name": "python",
   "nbconvert_exporter": "python",
   "pygments_lexer": "ipython3",
   "version": "3.10.5"
  },
  "orig_nbformat": 4,
  "vscode": {
   "interpreter": {
    "hash": "e480c6674d5508fc8d9591b96da2b4549be3a1df6840d924f135492fd8e36576"
   }
  }
 },
 "nbformat": 4,
 "nbformat_minor": 2
}
